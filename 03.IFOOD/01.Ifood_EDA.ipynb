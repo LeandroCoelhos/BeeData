{
  "nbformat": 4,
  "nbformat_minor": 0,
  "metadata": {
    "colab": {
      "provenance": [],
      "mount_file_id": "1_CljmO7T7ECanjEhnpUIhS-ewu3QcDpH",
      "authorship_tag": "ABX9TyO2N5J+JTxiV/x1A+zZu/ml",
      "include_colab_link": true
    },
    "kernelspec": {
      "name": "python3",
      "display_name": "Python 3"
    },
    "language_info": {
      "name": "python"
    }
  },
  "cells": [
    {
      "cell_type": "markdown",
      "metadata": {
        "id": "view-in-github",
        "colab_type": "text"
      },
      "source": [
        "<a href=\"https://colab.research.google.com/github/LeandroCoelhos/BeeData/blob/main/03.IFOOD/01.Ifood_EDA.ipynb\" target=\"_parent\"><img src=\"https://colab.research.google.com/assets/colab-badge.svg\" alt=\"Open In Colab\"/></a>"
      ]
    },
    {
      "cell_type": "markdown",
      "source": [
        "# Metadados"
      ],
      "metadata": {
        "id": "pv7qUwU-L567"
      }
    },
    {
      "cell_type": "markdown",
      "source": [
        "```\n",
        "# Isto está formatado como código\n",
        "```\n",
        "\n",
        "#Contexto\n",
        "Em 2021 o Ifood atingiu uma nova marca de 60 milhões de pedidos mensais, um crescimento de 100% em um ano; mais de 110.000 restaurantes se inscreveram na plataforma nos últimos 12 meses e só em março, o mês mais letal da pandemia para o Brasil, 270 mil restaurantes operavam com a plataforma.\n",
        "\n",
        "A diversidade e amplitude de clientes que utilizam a plataforma do iFood é gigante - a cobertura do aplicativo se estende por muitas geografias no Brasil,\n",
        "de múltiplos gostos, regionalismos e bolsos. Alguns buscam uma experiência no momento da refeição, outros só querem receber a marmita na hora\n",
        "certa para não se atrasar para a primeira reunião pós-almoço. Neste contexto, precisamos entender melhor nossos clientes!\n",
        "\n",
        "\n",
        "#Desafio\n",
        "Este desafio te dá a liberdade de explorar diversas perguntas, que podem ajudar a entender melhor o comportamento e perfil de cada cliente, pensando na segmentação podemos descobrir:\n",
        "\n",
        "- Quem é o mais fiel e quem mais compra conosco?\n",
        "- Quem mais gosta de cupom?\n",
        "- Quem gosta de entrega grátis?\n",
        "- Qual o padrão de consumo?\n",
        "- Qual o padrão de comportamento? Quanto os clientes vão gastar? Onde?\n",
        "- Clientes que têm o maior tempo entre pedido e entrega têm menor recorrência na plataforma?\n",
        "- Clientes que usam iOS (Apple) tem pedidos com maior ticket médio?\n",
        "- Clientes com mais sessões fazem mais pedidos?\n",
        "\n",
        "E claro este é só um ponto de partida, durante a exploração, pense em mais perguntas e outras possibilidades de uso dos dados que podem gerar valor para o negocio."
      ],
      "metadata": {
        "id": "Wcp2L45DkV-Q"
      }
    },
    {
      "cell_type": "markdown",
      "source": [
        "##Dados\n",
        "Os dados representam um total de 20.249 clientes diferentes: únicos e anonimizados: na base: que realizaram 226.269 pedidos: em 7 meses (fevereiro a setembro): através de mais de 3.5 milhões de sessões abertas no aplicativo.\n",
        "\n",
        "São 51 features dividas em 3 bases.\n",
        "\n",
        "#Dicionario\n",
        "\n",
        "##Order\n",
        "```\n",
        "order_id: ID único para pedido\n",
        "order_shift:0 - 4:59h - weekday/weekend dawn5 - 9:59h - weekday/weekend breakfast10 - 14:59h - weekday/weekend lunch15 - 16:59h - weekday/weekend snack17 - 23:59h - weekday/weekend dinner\n",
        "order_origin:\"Tipo do Merchant: STORE (loja), QUICKLY_MEAL (refeição rápida e barata): RESTAURANT (restaurante)\"\n",
        "delivery_fee:Taxa de entrega paga pelo cliente\n",
        "scheduled:Booleano que indica se o pedido foi agendado\n",
        "total_amount:Valor total pago pelo cliente (em Unidades Monetárias UM)\n",
        "subsidy_amount:\"Subsídio: desconto dado no pedido (em Unidades Monetárias UM) - (para o valor final total do pedido: total_amount + subsidy)\"\n",
        "device_platform:\"Plataforma (sistema operacional) utilizado para fazer o pedido (ANDROID, DESKTOP, etc)\"\n",
        "device_type:\"Canal de origem do pedido (SITE, MOBILE, etc)\"\n",
        "device_app_version:Versão do aplicativo do iFood que fez o pedido\n",
        "centroid_id:Id da centroide do clientes\n",
        "state_label:Sigla da UF do cliente\n",
        "city:Cidade do cliente\n",
        "district:Bairro do cliente\n",
        "customer_long:Longitude do cliente (até 2ª casa decimal) - ~1km\n",
        "customer_lat:Latitude do cliente (até 2ª casa decimal) - ~1km\n",
        "restaurant_id:Identificador do restaurante\n",
        "dish_type:Tipo de cozinha\n",
        "group_id:\"Se o restaurante fizer parte de um grupo, essa é a identificação do grupo\"\n",
        "merchant_centroid_id:Id da centroide\n",
        "merchant_state:Sigla do UF do Merchant\n",
        "merchant_city:Cidade do Merchant\n",
        "merchant_district:Distrito do Merchant\n",
        "merchant_zipcode:CEP do Merchant\n",
        "merchant_long:Longitude do Merchant (até 2ª casa decimal)\n",
        "merchant_lat:Latitude do Merchant (até 2ª casa decimal)\n",
        "has_free_delivery:Booleano que indica se o pedido foi entrega gratis\n",
        "confirmed_date:Data que o pedido foi confirmado pelo restaurante\n",
        "concluded_date:Data em que o pedido foi concluído\n",
        "lag_last_order:Tempo em dias entre o pedido atual e o último pedido do cliente\n",
        "account_id:ID do usuário\n",
        "\n",
        "```\n",
        "##Marketing\n",
        "```\n",
        "account_id:ID do usuário\n",
        "registration_date:Data de registro da conta\n",
        "\n",
        "platform_status:\"Current customer situtation based on specific clusters:\n",
        " - New: First concluded order made on current month (Customer M0).\n",
        " - Reactivated: Customer have a concluded order on current month, no orders last month and is not a New Customer\n",
        " - Active: Customer have a concluded order on current month and is not Reactivated or New\n",
        " - Churn: Customer have concluded orders last month but hasn't mande and order on current month yet\n",
        " - Inactive: Customer has a first concluded order but hasn't been active on current and last month\n",
        " - Prospect: Customer hasn't made first order yet\"\n",
        "\n",
        "platform_status_last_month:\"Current customer situtation based on specific clusters:\n",
        " - New: First concluded order made on current month (Customer M0).\n",
        " - Reactivated: Customer have a concluded order on current month, no orders last month and is not a New Customer\n",
        " - Active: Customer have a concluded order on current month and is not Reactivated or New\n",
        " - Churn: Customer have concluded orders last month but hasn't mande and order on current month yet\n",
        " - Inactive: Customer has a first concluded order but hasn't been active on current and last month\n",
        " - Prospect: Customer hasn't made first order yet\"\n",
        "\n",
        "total_order_count:Total de pedidos feito pelo cliente\n",
        "first_order_date:Data do primeiro pedido feito pelo cliente\n",
        "\n",
        "```\n",
        "##Session\n",
        "```\n",
        "session_id:ID da sessão\n",
        "user_account_uuid:ID do usuário\n",
        "session_started:Horário de início da sessão\n",
        "session_ended:Horário de término da sessão\n",
        "install_timestamp:\"Primeira instalação do app: após setup\"\n",
        "sum_view_restaurant_screen:Quantidade de restaurantes vistos\n",
        "sum_view_dish_screen:Quantidade de pratos vistos\n",
        "sum_click_add_item:\"Quantidade de clicks: ao adicionar um item ao carrinho\"\n",
        "sum_view_checkout:Quantidade de eventos no checkout\n",
        "sum_callback_purchase:Quantidade de eventos de callbacks\n",
        "first_order_has_voucher:\"Para fazer o primeiro pedido: foi utilizado voucher?\"\n",
        "media_campaign:Se sessão foi inciada por campanha de media\n",
        "load_time:Tempo de carregamento inicial da sessão\n",
        "available_restaurants:Quantidade de restaurantes disponíveis para o cliente no momento do pedido\n",
        "review_score:\n",
        "nps_score:\n",
        "review_created_date:\n",
        "```\n"
      ],
      "metadata": {
        "id": "-G8qfYVtkZIE"
      }
    },
    {
      "cell_type": "markdown",
      "source": [
        "# Imports"
      ],
      "metadata": {
        "id": "XGsA9pe5MKLX"
      }
    },
    {
      "cell_type": "code",
      "source": [
        "import numpy as np\n",
        "import seaborn as sns\n",
        "import matplotlib.pyplot as plt"
      ],
      "metadata": {
        "id": "59aXAAIikxF7"
      },
      "execution_count": null,
      "outputs": []
    },
    {
      "cell_type": "code",
      "execution_count": null,
      "metadata": {
        "colab": {
          "base_uri": "https://localhost:8080/"
        },
        "id": "EvmP-LhNhGkf",
        "outputId": "37bb4be2-6916-43cf-d441-baad3d4012bf"
      },
      "outputs": [
        {
          "output_type": "stream",
          "name": "stdout",
          "text": [
            "Drive already mounted at /content/gdrive; to attempt to forcibly remount, call drive.mount(\"/content/gdrive\", force_remount=True).\n"
          ]
        }
      ],
      "source": [
        "from google.colab import drive\n",
        "import pandas as pd\n",
        "drive.mount(\"/content/gdrive\")"
      ]
    },
    {
      "cell_type": "code",
      "source": [
        "df_orders = pd.read_csv('/content/gdrive/MyDrive/BeeData/05.Ifood/data/Orders.csv', sep=';')\n",
        "df_orders.head(1)"
      ],
      "metadata": {
        "colab": {
          "base_uri": "https://localhost:8080/",
          "height": 182
        },
        "id": "ZM7iCYdLnG8R",
        "outputId": "97cb0298-4617-496d-e753-c41d075b50bd"
      },
      "execution_count": null,
      "outputs": [
        {
          "output_type": "execute_result",
          "data": {
            "text/plain": [
              "                               order_id    order_shift order_origin  \\\n",
              "0  000f4c94-ec38-488b-ad98-9bf3ea19d517  weekday lunch   RESTAURANT   \n",
              "\n",
              "   delivery_fee  scheduled  total_amount  subsidy_amount device_platform  \\\n",
              "0         875.0      False        5375.0             0.0         ANDROID   \n",
              "\n",
              "  device_type device_app_version  ... merchant_long merchant_lat  \\\n",
              "0      MOBILE             9.39.1  ...        -43.38       -22.83   \n",
              "\n",
              "  has_free_delivery            confirmed_date            concluded_date  \\\n",
              "0             False  2020-02-28T14:07:25.953Z  2020-02-28T16:06:03.701Z   \n",
              "\n",
              "   lag_last_order                            account_id review_score  \\\n",
              "0             1.0  70a2a5a3-8071-47fc-a623-e9995045314e          5.0   \n",
              "\n",
              "  nps_score         review_created_at  \n",
              "0         8  2020-02-28T19:06:31.861Z  \n",
              "\n",
              "[1 rows x 34 columns]"
            ],
            "text/html": [
              "\n",
              "  <div id=\"df-730067ba-dc31-4adf-b617-3ee5ee1a39f6\" class=\"colab-df-container\">\n",
              "    <div>\n",
              "<style scoped>\n",
              "    .dataframe tbody tr th:only-of-type {\n",
              "        vertical-align: middle;\n",
              "    }\n",
              "\n",
              "    .dataframe tbody tr th {\n",
              "        vertical-align: top;\n",
              "    }\n",
              "\n",
              "    .dataframe thead th {\n",
              "        text-align: right;\n",
              "    }\n",
              "</style>\n",
              "<table border=\"1\" class=\"dataframe\">\n",
              "  <thead>\n",
              "    <tr style=\"text-align: right;\">\n",
              "      <th></th>\n",
              "      <th>order_id</th>\n",
              "      <th>order_shift</th>\n",
              "      <th>order_origin</th>\n",
              "      <th>delivery_fee</th>\n",
              "      <th>scheduled</th>\n",
              "      <th>total_amount</th>\n",
              "      <th>subsidy_amount</th>\n",
              "      <th>device_platform</th>\n",
              "      <th>device_type</th>\n",
              "      <th>device_app_version</th>\n",
              "      <th>...</th>\n",
              "      <th>merchant_long</th>\n",
              "      <th>merchant_lat</th>\n",
              "      <th>has_free_delivery</th>\n",
              "      <th>confirmed_date</th>\n",
              "      <th>concluded_date</th>\n",
              "      <th>lag_last_order</th>\n",
              "      <th>account_id</th>\n",
              "      <th>review_score</th>\n",
              "      <th>nps_score</th>\n",
              "      <th>review_created_at</th>\n",
              "    </tr>\n",
              "  </thead>\n",
              "  <tbody>\n",
              "    <tr>\n",
              "      <th>0</th>\n",
              "      <td>000f4c94-ec38-488b-ad98-9bf3ea19d517</td>\n",
              "      <td>weekday lunch</td>\n",
              "      <td>RESTAURANT</td>\n",
              "      <td>875.0</td>\n",
              "      <td>False</td>\n",
              "      <td>5375.0</td>\n",
              "      <td>0.0</td>\n",
              "      <td>ANDROID</td>\n",
              "      <td>MOBILE</td>\n",
              "      <td>9.39.1</td>\n",
              "      <td>...</td>\n",
              "      <td>-43.38</td>\n",
              "      <td>-22.83</td>\n",
              "      <td>False</td>\n",
              "      <td>2020-02-28T14:07:25.953Z</td>\n",
              "      <td>2020-02-28T16:06:03.701Z</td>\n",
              "      <td>1.0</td>\n",
              "      <td>70a2a5a3-8071-47fc-a623-e9995045314e</td>\n",
              "      <td>5.0</td>\n",
              "      <td>8</td>\n",
              "      <td>2020-02-28T19:06:31.861Z</td>\n",
              "    </tr>\n",
              "  </tbody>\n",
              "</table>\n",
              "<p>1 rows × 34 columns</p>\n",
              "</div>\n",
              "    <div class=\"colab-df-buttons\">\n",
              "\n",
              "  <div class=\"colab-df-container\">\n",
              "    <button class=\"colab-df-convert\" onclick=\"convertToInteractive('df-730067ba-dc31-4adf-b617-3ee5ee1a39f6')\"\n",
              "            title=\"Convert this dataframe to an interactive table.\"\n",
              "            style=\"display:none;\">\n",
              "\n",
              "  <svg xmlns=\"http://www.w3.org/2000/svg\" height=\"24px\" viewBox=\"0 -960 960 960\">\n",
              "    <path d=\"M120-120v-720h720v720H120Zm60-500h600v-160H180v160Zm220 220h160v-160H400v160Zm0 220h160v-160H400v160ZM180-400h160v-160H180v160Zm440 0h160v-160H620v160ZM180-180h160v-160H180v160Zm440 0h160v-160H620v160Z\"/>\n",
              "  </svg>\n",
              "    </button>\n",
              "\n",
              "  <style>\n",
              "    .colab-df-container {\n",
              "      display:flex;\n",
              "      gap: 12px;\n",
              "    }\n",
              "\n",
              "    .colab-df-convert {\n",
              "      background-color: #E8F0FE;\n",
              "      border: none;\n",
              "      border-radius: 50%;\n",
              "      cursor: pointer;\n",
              "      display: none;\n",
              "      fill: #1967D2;\n",
              "      height: 32px;\n",
              "      padding: 0 0 0 0;\n",
              "      width: 32px;\n",
              "    }\n",
              "\n",
              "    .colab-df-convert:hover {\n",
              "      background-color: #E2EBFA;\n",
              "      box-shadow: 0px 1px 2px rgba(60, 64, 67, 0.3), 0px 1px 3px 1px rgba(60, 64, 67, 0.15);\n",
              "      fill: #174EA6;\n",
              "    }\n",
              "\n",
              "    .colab-df-buttons div {\n",
              "      margin-bottom: 4px;\n",
              "    }\n",
              "\n",
              "    [theme=dark] .colab-df-convert {\n",
              "      background-color: #3B4455;\n",
              "      fill: #D2E3FC;\n",
              "    }\n",
              "\n",
              "    [theme=dark] .colab-df-convert:hover {\n",
              "      background-color: #434B5C;\n",
              "      box-shadow: 0px 1px 3px 1px rgba(0, 0, 0, 0.15);\n",
              "      filter: drop-shadow(0px 1px 2px rgba(0, 0, 0, 0.3));\n",
              "      fill: #FFFFFF;\n",
              "    }\n",
              "  </style>\n",
              "\n",
              "    <script>\n",
              "      const buttonEl =\n",
              "        document.querySelector('#df-730067ba-dc31-4adf-b617-3ee5ee1a39f6 button.colab-df-convert');\n",
              "      buttonEl.style.display =\n",
              "        google.colab.kernel.accessAllowed ? 'block' : 'none';\n",
              "\n",
              "      async function convertToInteractive(key) {\n",
              "        const element = document.querySelector('#df-730067ba-dc31-4adf-b617-3ee5ee1a39f6');\n",
              "        const dataTable =\n",
              "          await google.colab.kernel.invokeFunction('convertToInteractive',\n",
              "                                                    [key], {});\n",
              "        if (!dataTable) return;\n",
              "\n",
              "        const docLinkHtml = 'Like what you see? Visit the ' +\n",
              "          '<a target=\"_blank\" href=https://colab.research.google.com/notebooks/data_table.ipynb>data table notebook</a>'\n",
              "          + ' to learn more about interactive tables.';\n",
              "        element.innerHTML = '';\n",
              "        dataTable['output_type'] = 'display_data';\n",
              "        await google.colab.output.renderOutput(dataTable, element);\n",
              "        const docLink = document.createElement('div');\n",
              "        docLink.innerHTML = docLinkHtml;\n",
              "        element.appendChild(docLink);\n",
              "      }\n",
              "    </script>\n",
              "  </div>\n",
              "\n",
              "    </div>\n",
              "  </div>\n"
            ]
          },
          "metadata": {},
          "execution_count": 175
        }
      ]
    },
    {
      "cell_type": "code",
      "source": [
        "df_orders.info()"
      ],
      "metadata": {
        "colab": {
          "base_uri": "https://localhost:8080/"
        },
        "id": "EoQuzcRfCITL",
        "outputId": "8916d350-b81a-4f20-bbe7-5229621f939c"
      },
      "execution_count": null,
      "outputs": [
        {
          "output_type": "stream",
          "name": "stdout",
          "text": [
            "<class 'pandas.core.frame.DataFrame'>\n",
            "RangeIndex: 226269 entries, 0 to 226268\n",
            "Data columns (total 34 columns):\n",
            " #   Column                Non-Null Count   Dtype  \n",
            "---  ------                --------------   -----  \n",
            " 0   order_id              226269 non-null  object \n",
            " 1   order_shift           226269 non-null  object \n",
            " 2   order_origin          226269 non-null  object \n",
            " 3   delivery_fee          226269 non-null  float64\n",
            " 4   scheduled             226269 non-null  bool   \n",
            " 5   total_amount          226269 non-null  float64\n",
            " 6   subsidy_amount        226269 non-null  float64\n",
            " 7   device_platform       226269 non-null  object \n",
            " 8   device_type           226269 non-null  object \n",
            " 9   device_app_version    221834 non-null  object \n",
            " 10  centroid_id           226269 non-null  object \n",
            " 11  state_label           226269 non-null  object \n",
            " 12  city                  226269 non-null  object \n",
            " 13  district              226269 non-null  object \n",
            " 14  customer_long         226269 non-null  float64\n",
            " 15  customer_lat          226269 non-null  float64\n",
            " 16  restaurant_id         226269 non-null  object \n",
            " 17  dish_type             226269 non-null  object \n",
            " 18  group_id              226269 non-null  object \n",
            " 19  merchant_centroid_id  226269 non-null  object \n",
            " 20  merchant_state        226269 non-null  object \n",
            " 21  merchant_city         226269 non-null  object \n",
            " 22  merchant_district     226269 non-null  object \n",
            " 23  merchant_zipcode      226269 non-null  int64  \n",
            " 24  merchant_long         226269 non-null  float64\n",
            " 25  merchant_lat          226269 non-null  float64\n",
            " 26  has_free_delivery     226269 non-null  bool   \n",
            " 27  confirmed_date        226255 non-null  object \n",
            " 28  concluded_date        226265 non-null  object \n",
            " 29  lag_last_order        226085 non-null  float64\n",
            " 30  account_id            226269 non-null  object \n",
            " 31  review_score          226269 non-null  float64\n",
            " 32  nps_score             226269 non-null  int64  \n",
            " 33  review_created_at     226269 non-null  object \n",
            "dtypes: bool(2), float64(9), int64(2), object(21)\n",
            "memory usage: 55.7+ MB\n"
          ]
        }
      ]
    },
    {
      "cell_type": "code",
      "source": [
        "df_marketing = pd.read_csv('/content/gdrive/MyDrive/BeeData/05.Ifood/data/Marketing.csv', sep=';')\n",
        "df_marketing.head(1)"
      ],
      "metadata": {
        "colab": {
          "base_uri": "https://localhost:8080/",
          "height": 81
        },
        "id": "FmmIB6RXnQwA",
        "outputId": "ab8711d3-162a-4564-f6b5-4a4b3c7958b0"
      },
      "execution_count": null,
      "outputs": [
        {
          "output_type": "execute_result",
          "data": {
            "text/plain": [
              "                             account_id registration_date ifood_status  \\\n",
              "0  7c0450e7-a806-4208-8449-e4269a27e6b5        2020-02-02     Inactive   \n",
              "\n",
              "  ifood_status_last_month  total_order_count first_order_date  \n",
              "0                Inactive                  8       2020-02-28  "
            ],
            "text/html": [
              "\n",
              "  <div id=\"df-9f17d95c-978f-4f08-811a-3f0c7fd27334\" class=\"colab-df-container\">\n",
              "    <div>\n",
              "<style scoped>\n",
              "    .dataframe tbody tr th:only-of-type {\n",
              "        vertical-align: middle;\n",
              "    }\n",
              "\n",
              "    .dataframe tbody tr th {\n",
              "        vertical-align: top;\n",
              "    }\n",
              "\n",
              "    .dataframe thead th {\n",
              "        text-align: right;\n",
              "    }\n",
              "</style>\n",
              "<table border=\"1\" class=\"dataframe\">\n",
              "  <thead>\n",
              "    <tr style=\"text-align: right;\">\n",
              "      <th></th>\n",
              "      <th>account_id</th>\n",
              "      <th>registration_date</th>\n",
              "      <th>ifood_status</th>\n",
              "      <th>ifood_status_last_month</th>\n",
              "      <th>total_order_count</th>\n",
              "      <th>first_order_date</th>\n",
              "    </tr>\n",
              "  </thead>\n",
              "  <tbody>\n",
              "    <tr>\n",
              "      <th>0</th>\n",
              "      <td>7c0450e7-a806-4208-8449-e4269a27e6b5</td>\n",
              "      <td>2020-02-02</td>\n",
              "      <td>Inactive</td>\n",
              "      <td>Inactive</td>\n",
              "      <td>8</td>\n",
              "      <td>2020-02-28</td>\n",
              "    </tr>\n",
              "  </tbody>\n",
              "</table>\n",
              "</div>\n",
              "    <div class=\"colab-df-buttons\">\n",
              "\n",
              "  <div class=\"colab-df-container\">\n",
              "    <button class=\"colab-df-convert\" onclick=\"convertToInteractive('df-9f17d95c-978f-4f08-811a-3f0c7fd27334')\"\n",
              "            title=\"Convert this dataframe to an interactive table.\"\n",
              "            style=\"display:none;\">\n",
              "\n",
              "  <svg xmlns=\"http://www.w3.org/2000/svg\" height=\"24px\" viewBox=\"0 -960 960 960\">\n",
              "    <path d=\"M120-120v-720h720v720H120Zm60-500h600v-160H180v160Zm220 220h160v-160H400v160Zm0 220h160v-160H400v160ZM180-400h160v-160H180v160Zm440 0h160v-160H620v160ZM180-180h160v-160H180v160Zm440 0h160v-160H620v160Z\"/>\n",
              "  </svg>\n",
              "    </button>\n",
              "\n",
              "  <style>\n",
              "    .colab-df-container {\n",
              "      display:flex;\n",
              "      gap: 12px;\n",
              "    }\n",
              "\n",
              "    .colab-df-convert {\n",
              "      background-color: #E8F0FE;\n",
              "      border: none;\n",
              "      border-radius: 50%;\n",
              "      cursor: pointer;\n",
              "      display: none;\n",
              "      fill: #1967D2;\n",
              "      height: 32px;\n",
              "      padding: 0 0 0 0;\n",
              "      width: 32px;\n",
              "    }\n",
              "\n",
              "    .colab-df-convert:hover {\n",
              "      background-color: #E2EBFA;\n",
              "      box-shadow: 0px 1px 2px rgba(60, 64, 67, 0.3), 0px 1px 3px 1px rgba(60, 64, 67, 0.15);\n",
              "      fill: #174EA6;\n",
              "    }\n",
              "\n",
              "    .colab-df-buttons div {\n",
              "      margin-bottom: 4px;\n",
              "    }\n",
              "\n",
              "    [theme=dark] .colab-df-convert {\n",
              "      background-color: #3B4455;\n",
              "      fill: #D2E3FC;\n",
              "    }\n",
              "\n",
              "    [theme=dark] .colab-df-convert:hover {\n",
              "      background-color: #434B5C;\n",
              "      box-shadow: 0px 1px 3px 1px rgba(0, 0, 0, 0.15);\n",
              "      filter: drop-shadow(0px 1px 2px rgba(0, 0, 0, 0.3));\n",
              "      fill: #FFFFFF;\n",
              "    }\n",
              "  </style>\n",
              "\n",
              "    <script>\n",
              "      const buttonEl =\n",
              "        document.querySelector('#df-9f17d95c-978f-4f08-811a-3f0c7fd27334 button.colab-df-convert');\n",
              "      buttonEl.style.display =\n",
              "        google.colab.kernel.accessAllowed ? 'block' : 'none';\n",
              "\n",
              "      async function convertToInteractive(key) {\n",
              "        const element = document.querySelector('#df-9f17d95c-978f-4f08-811a-3f0c7fd27334');\n",
              "        const dataTable =\n",
              "          await google.colab.kernel.invokeFunction('convertToInteractive',\n",
              "                                                    [key], {});\n",
              "        if (!dataTable) return;\n",
              "\n",
              "        const docLinkHtml = 'Like what you see? Visit the ' +\n",
              "          '<a target=\"_blank\" href=https://colab.research.google.com/notebooks/data_table.ipynb>data table notebook</a>'\n",
              "          + ' to learn more about interactive tables.';\n",
              "        element.innerHTML = '';\n",
              "        dataTable['output_type'] = 'display_data';\n",
              "        await google.colab.output.renderOutput(dataTable, element);\n",
              "        const docLink = document.createElement('div');\n",
              "        docLink.innerHTML = docLinkHtml;\n",
              "        element.appendChild(docLink);\n",
              "      }\n",
              "    </script>\n",
              "  </div>\n",
              "\n",
              "    </div>\n",
              "  </div>\n"
            ]
          },
          "metadata": {},
          "execution_count": 177
        }
      ]
    },
    {
      "cell_type": "code",
      "source": [
        "df_marketing.info()"
      ],
      "metadata": {
        "colab": {
          "base_uri": "https://localhost:8080/"
        },
        "id": "JqhYrUkKCs0G",
        "outputId": "532673ad-3386-4df1-bb2d-d012ddb4c54f"
      },
      "execution_count": null,
      "outputs": [
        {
          "output_type": "stream",
          "name": "stdout",
          "text": [
            "<class 'pandas.core.frame.DataFrame'>\n",
            "RangeIndex: 20249 entries, 0 to 20248\n",
            "Data columns (total 6 columns):\n",
            " #   Column                   Non-Null Count  Dtype \n",
            "---  ------                   --------------  ----- \n",
            " 0   account_id               20249 non-null  object\n",
            " 1   registration_date        20249 non-null  object\n",
            " 2   ifood_status             20249 non-null  object\n",
            " 3   ifood_status_last_month  20249 non-null  object\n",
            " 4   total_order_count        20249 non-null  int64 \n",
            " 5   first_order_date         20248 non-null  object\n",
            "dtypes: int64(1), object(5)\n",
            "memory usage: 949.3+ KB\n"
          ]
        }
      ]
    },
    {
      "cell_type": "code",
      "source": [
        "df_sessions = pd.read_csv('/content/gdrive/MyDrive/BeeData/05.Ifood/data/sessions.csv', sep=';')\n",
        "df_sessions.head(1)"
      ],
      "metadata": {
        "colab": {
          "base_uri": "https://localhost:8080/",
          "height": 153
        },
        "id": "C4voR9wQhP3r",
        "outputId": "b0ed3f0c-a2f0-4968-9c2b-e0c6a34ab073"
      },
      "execution_count": null,
      "outputs": [
        {
          "output_type": "execute_result",
          "data": {
            "text/plain": [
              "                             session_id                     user_account_uuid  \\\n",
              "0  0a364c77-4375-4334-8f64-a06bdd22229c  5a2fbdea-e2ee-41a5-b47c-41fbebdc78ef   \n",
              "\n",
              "            session_started             session_ended install_timestamp  \\\n",
              "0  2020-02-01T00:00:03.924Z  2020-02-01T00:10:51.217Z               NaN   \n",
              "\n",
              "   sum_view_restaurant_screen  sum_view_dish_screen  sum_click_add_item  \\\n",
              "0                          19                     5                   6   \n",
              "\n",
              "   sum_view_checkout  sum_callback_purchase first_order_has_voucher  \\\n",
              "0                  6                      7                   False   \n",
              "\n",
              "  media_campaign  load_time  available_restaurants  rownumber  \n",
              "0            NaN        5.0                  462.0          1  "
            ],
            "text/html": [
              "\n",
              "  <div id=\"df-2881e6b9-fe8d-4b34-b2f2-53bec115badf\" class=\"colab-df-container\">\n",
              "    <div>\n",
              "<style scoped>\n",
              "    .dataframe tbody tr th:only-of-type {\n",
              "        vertical-align: middle;\n",
              "    }\n",
              "\n",
              "    .dataframe tbody tr th {\n",
              "        vertical-align: top;\n",
              "    }\n",
              "\n",
              "    .dataframe thead th {\n",
              "        text-align: right;\n",
              "    }\n",
              "</style>\n",
              "<table border=\"1\" class=\"dataframe\">\n",
              "  <thead>\n",
              "    <tr style=\"text-align: right;\">\n",
              "      <th></th>\n",
              "      <th>session_id</th>\n",
              "      <th>user_account_uuid</th>\n",
              "      <th>session_started</th>\n",
              "      <th>session_ended</th>\n",
              "      <th>install_timestamp</th>\n",
              "      <th>sum_view_restaurant_screen</th>\n",
              "      <th>sum_view_dish_screen</th>\n",
              "      <th>sum_click_add_item</th>\n",
              "      <th>sum_view_checkout</th>\n",
              "      <th>sum_callback_purchase</th>\n",
              "      <th>first_order_has_voucher</th>\n",
              "      <th>media_campaign</th>\n",
              "      <th>load_time</th>\n",
              "      <th>available_restaurants</th>\n",
              "      <th>rownumber</th>\n",
              "    </tr>\n",
              "  </thead>\n",
              "  <tbody>\n",
              "    <tr>\n",
              "      <th>0</th>\n",
              "      <td>0a364c77-4375-4334-8f64-a06bdd22229c</td>\n",
              "      <td>5a2fbdea-e2ee-41a5-b47c-41fbebdc78ef</td>\n",
              "      <td>2020-02-01T00:00:03.924Z</td>\n",
              "      <td>2020-02-01T00:10:51.217Z</td>\n",
              "      <td>NaN</td>\n",
              "      <td>19</td>\n",
              "      <td>5</td>\n",
              "      <td>6</td>\n",
              "      <td>6</td>\n",
              "      <td>7</td>\n",
              "      <td>False</td>\n",
              "      <td>NaN</td>\n",
              "      <td>5.0</td>\n",
              "      <td>462.0</td>\n",
              "      <td>1</td>\n",
              "    </tr>\n",
              "  </tbody>\n",
              "</table>\n",
              "</div>\n",
              "    <div class=\"colab-df-buttons\">\n",
              "\n",
              "  <div class=\"colab-df-container\">\n",
              "    <button class=\"colab-df-convert\" onclick=\"convertToInteractive('df-2881e6b9-fe8d-4b34-b2f2-53bec115badf')\"\n",
              "            title=\"Convert this dataframe to an interactive table.\"\n",
              "            style=\"display:none;\">\n",
              "\n",
              "  <svg xmlns=\"http://www.w3.org/2000/svg\" height=\"24px\" viewBox=\"0 -960 960 960\">\n",
              "    <path d=\"M120-120v-720h720v720H120Zm60-500h600v-160H180v160Zm220 220h160v-160H400v160Zm0 220h160v-160H400v160ZM180-400h160v-160H180v160Zm440 0h160v-160H620v160ZM180-180h160v-160H180v160Zm440 0h160v-160H620v160Z\"/>\n",
              "  </svg>\n",
              "    </button>\n",
              "\n",
              "  <style>\n",
              "    .colab-df-container {\n",
              "      display:flex;\n",
              "      gap: 12px;\n",
              "    }\n",
              "\n",
              "    .colab-df-convert {\n",
              "      background-color: #E8F0FE;\n",
              "      border: none;\n",
              "      border-radius: 50%;\n",
              "      cursor: pointer;\n",
              "      display: none;\n",
              "      fill: #1967D2;\n",
              "      height: 32px;\n",
              "      padding: 0 0 0 0;\n",
              "      width: 32px;\n",
              "    }\n",
              "\n",
              "    .colab-df-convert:hover {\n",
              "      background-color: #E2EBFA;\n",
              "      box-shadow: 0px 1px 2px rgba(60, 64, 67, 0.3), 0px 1px 3px 1px rgba(60, 64, 67, 0.15);\n",
              "      fill: #174EA6;\n",
              "    }\n",
              "\n",
              "    .colab-df-buttons div {\n",
              "      margin-bottom: 4px;\n",
              "    }\n",
              "\n",
              "    [theme=dark] .colab-df-convert {\n",
              "      background-color: #3B4455;\n",
              "      fill: #D2E3FC;\n",
              "    }\n",
              "\n",
              "    [theme=dark] .colab-df-convert:hover {\n",
              "      background-color: #434B5C;\n",
              "      box-shadow: 0px 1px 3px 1px rgba(0, 0, 0, 0.15);\n",
              "      filter: drop-shadow(0px 1px 2px rgba(0, 0, 0, 0.3));\n",
              "      fill: #FFFFFF;\n",
              "    }\n",
              "  </style>\n",
              "\n",
              "    <script>\n",
              "      const buttonEl =\n",
              "        document.querySelector('#df-2881e6b9-fe8d-4b34-b2f2-53bec115badf button.colab-df-convert');\n",
              "      buttonEl.style.display =\n",
              "        google.colab.kernel.accessAllowed ? 'block' : 'none';\n",
              "\n",
              "      async function convertToInteractive(key) {\n",
              "        const element = document.querySelector('#df-2881e6b9-fe8d-4b34-b2f2-53bec115badf');\n",
              "        const dataTable =\n",
              "          await google.colab.kernel.invokeFunction('convertToInteractive',\n",
              "                                                    [key], {});\n",
              "        if (!dataTable) return;\n",
              "\n",
              "        const docLinkHtml = 'Like what you see? Visit the ' +\n",
              "          '<a target=\"_blank\" href=https://colab.research.google.com/notebooks/data_table.ipynb>data table notebook</a>'\n",
              "          + ' to learn more about interactive tables.';\n",
              "        element.innerHTML = '';\n",
              "        dataTable['output_type'] = 'display_data';\n",
              "        await google.colab.output.renderOutput(dataTable, element);\n",
              "        const docLink = document.createElement('div');\n",
              "        docLink.innerHTML = docLinkHtml;\n",
              "        element.appendChild(docLink);\n",
              "      }\n",
              "    </script>\n",
              "  </div>\n",
              "\n",
              "    </div>\n",
              "  </div>\n"
            ]
          },
          "metadata": {},
          "execution_count": 179
        }
      ]
    },
    {
      "cell_type": "code",
      "source": [
        "df_sessions.info(show_counts=True, verbose=True)"
      ],
      "metadata": {
        "id": "uwuoOnwhCv53",
        "outputId": "c9ce552a-77a7-419b-c8a8-cc8bd4703a56",
        "colab": {
          "base_uri": "https://localhost:8080/"
        }
      },
      "execution_count": null,
      "outputs": [
        {
          "output_type": "stream",
          "name": "stdout",
          "text": [
            "<class 'pandas.core.frame.DataFrame'>\n",
            "RangeIndex: 3591511 entries, 0 to 3591510\n",
            "Data columns (total 15 columns):\n",
            " #   Column                      Non-Null Count    Dtype  \n",
            "---  ------                      --------------    -----  \n",
            " 0   session_id                  3591511 non-null  object \n",
            " 1   user_account_uuid           3591511 non-null  object \n",
            " 2   session_started             3591511 non-null  object \n",
            " 3   session_ended               3545766 non-null  object \n",
            " 4   install_timestamp           11543 non-null    object \n",
            " 5   sum_view_restaurant_screen  3591511 non-null  int64  \n",
            " 6   sum_view_dish_screen        3591511 non-null  int64  \n",
            " 7   sum_click_add_item          3591511 non-null  int64  \n",
            " 8   sum_view_checkout           3591511 non-null  int64  \n",
            " 9   sum_callback_purchase       3591511 non-null  int64  \n",
            " 10  first_order_has_voucher     420630 non-null   object \n",
            " 11  media_campaign              53423 non-null    object \n",
            " 12  load_time                   2848111 non-null  float64\n",
            " 13  available_restaurants       3591511 non-null  float64\n",
            " 14  rownumber                   3591511 non-null  int64  \n",
            "dtypes: float64(2), int64(6), object(7)\n",
            "memory usage: 411.0+ MB\n"
          ]
        }
      ]
    },
    {
      "cell_type": "markdown",
      "source": [
        "# Começando pelo Marketing"
      ],
      "metadata": {
        "id": "9bAA-ZJ0wNFI"
      }
    },
    {
      "cell_type": "markdown",
      "source": [
        "### perguntas"
      ],
      "metadata": {
        "id": "23M2ydFrMYl0"
      }
    },
    {
      "cell_type": "code",
      "source": [
        "# plot de ano de criação da conta ok\n",
        "# mes de criação da conta ok\n",
        "# plot de tempo entre a criação de uma conta e a primeira compra\n",
        "# comparar ativos de um mes para o outro"
      ],
      "metadata": {
        "id": "pWPebLfLn7V7"
      },
      "execution_count": null,
      "outputs": []
    },
    {
      "cell_type": "code",
      "source": [
        "df_marketing.shape"
      ],
      "metadata": {
        "colab": {
          "base_uri": "https://localhost:8080/"
        },
        "id": "g1xHjgVSrl5b",
        "outputId": "2e4682ae-6b88-4aba-c246-c18a3f2009ee"
      },
      "execution_count": null,
      "outputs": [
        {
          "output_type": "execute_result",
          "data": {
            "text/plain": [
              "(20249, 6)"
            ]
          },
          "metadata": {},
          "execution_count": 182
        }
      ]
    },
    {
      "cell_type": "code",
      "source": [
        "#registro sem nenhuma unica compra\n",
        "df_marketing = df_marketing[df_marketing['account_id'] != '7745ad02-1ff9-45be-9227-a9306857cdcb']"
      ],
      "metadata": {
        "id": "8AsQrPHfrSzZ"
      },
      "execution_count": null,
      "outputs": []
    },
    {
      "cell_type": "markdown",
      "source": [
        "### Criação de Datas"
      ],
      "metadata": {
        "id": "2kBycY8MMRoK"
      }
    },
    {
      "cell_type": "code",
      "source": [
        "def por_data(df_aux, cols):\n",
        "  df = df_aux.copy()\n",
        "  for col in cols:\n",
        "    df[col] = pd.to_datetime(df[col])\n",
        "    df[col+'_year'] = df[col].dt.year.astype(int,errors='ignore') #vi que estava retornando erro, data em branco\n",
        "    df[col+'_month'] = df[col].dt.month.astype(int,errors='ignore')\n",
        "    df[col+'_day'] = df[col].dt.day.astype(int,errors='ignore')\n",
        "  return df\n",
        "\n",
        "df_mark_dt = por_data(df_marketing, ['registration_date', 'first_order_date'])\n",
        "df_mark_dt.head(1)"
      ],
      "metadata": {
        "colab": {
          "base_uri": "https://localhost:8080/",
          "height": 153
        },
        "id": "SnBPdXM7pPyE",
        "outputId": "4537c776-1588-4e63-87df-652a87d35413"
      },
      "execution_count": null,
      "outputs": [
        {
          "output_type": "execute_result",
          "data": {
            "text/plain": [
              "                             account_id registration_date ifood_status  \\\n",
              "0  7c0450e7-a806-4208-8449-e4269a27e6b5        2020-02-02     Inactive   \n",
              "\n",
              "  ifood_status_last_month  total_order_count first_order_date  \\\n",
              "0                Inactive                  8       2020-02-28   \n",
              "\n",
              "   registration_date_year  registration_date_month  registration_date_day  \\\n",
              "0                    2020                        2                      2   \n",
              "\n",
              "   first_order_date_year  first_order_date_month  first_order_date_day  \n",
              "0                   2020                       2                    28  "
            ],
            "text/html": [
              "\n",
              "  <div id=\"df-20cd9018-6f95-4222-a241-767269d1d965\" class=\"colab-df-container\">\n",
              "    <div>\n",
              "<style scoped>\n",
              "    .dataframe tbody tr th:only-of-type {\n",
              "        vertical-align: middle;\n",
              "    }\n",
              "\n",
              "    .dataframe tbody tr th {\n",
              "        vertical-align: top;\n",
              "    }\n",
              "\n",
              "    .dataframe thead th {\n",
              "        text-align: right;\n",
              "    }\n",
              "</style>\n",
              "<table border=\"1\" class=\"dataframe\">\n",
              "  <thead>\n",
              "    <tr style=\"text-align: right;\">\n",
              "      <th></th>\n",
              "      <th>account_id</th>\n",
              "      <th>registration_date</th>\n",
              "      <th>ifood_status</th>\n",
              "      <th>ifood_status_last_month</th>\n",
              "      <th>total_order_count</th>\n",
              "      <th>first_order_date</th>\n",
              "      <th>registration_date_year</th>\n",
              "      <th>registration_date_month</th>\n",
              "      <th>registration_date_day</th>\n",
              "      <th>first_order_date_year</th>\n",
              "      <th>first_order_date_month</th>\n",
              "      <th>first_order_date_day</th>\n",
              "    </tr>\n",
              "  </thead>\n",
              "  <tbody>\n",
              "    <tr>\n",
              "      <th>0</th>\n",
              "      <td>7c0450e7-a806-4208-8449-e4269a27e6b5</td>\n",
              "      <td>2020-02-02</td>\n",
              "      <td>Inactive</td>\n",
              "      <td>Inactive</td>\n",
              "      <td>8</td>\n",
              "      <td>2020-02-28</td>\n",
              "      <td>2020</td>\n",
              "      <td>2</td>\n",
              "      <td>2</td>\n",
              "      <td>2020</td>\n",
              "      <td>2</td>\n",
              "      <td>28</td>\n",
              "    </tr>\n",
              "  </tbody>\n",
              "</table>\n",
              "</div>\n",
              "    <div class=\"colab-df-buttons\">\n",
              "\n",
              "  <div class=\"colab-df-container\">\n",
              "    <button class=\"colab-df-convert\" onclick=\"convertToInteractive('df-20cd9018-6f95-4222-a241-767269d1d965')\"\n",
              "            title=\"Convert this dataframe to an interactive table.\"\n",
              "            style=\"display:none;\">\n",
              "\n",
              "  <svg xmlns=\"http://www.w3.org/2000/svg\" height=\"24px\" viewBox=\"0 -960 960 960\">\n",
              "    <path d=\"M120-120v-720h720v720H120Zm60-500h600v-160H180v160Zm220 220h160v-160H400v160Zm0 220h160v-160H400v160ZM180-400h160v-160H180v160Zm440 0h160v-160H620v160ZM180-180h160v-160H180v160Zm440 0h160v-160H620v160Z\"/>\n",
              "  </svg>\n",
              "    </button>\n",
              "\n",
              "  <style>\n",
              "    .colab-df-container {\n",
              "      display:flex;\n",
              "      gap: 12px;\n",
              "    }\n",
              "\n",
              "    .colab-df-convert {\n",
              "      background-color: #E8F0FE;\n",
              "      border: none;\n",
              "      border-radius: 50%;\n",
              "      cursor: pointer;\n",
              "      display: none;\n",
              "      fill: #1967D2;\n",
              "      height: 32px;\n",
              "      padding: 0 0 0 0;\n",
              "      width: 32px;\n",
              "    }\n",
              "\n",
              "    .colab-df-convert:hover {\n",
              "      background-color: #E2EBFA;\n",
              "      box-shadow: 0px 1px 2px rgba(60, 64, 67, 0.3), 0px 1px 3px 1px rgba(60, 64, 67, 0.15);\n",
              "      fill: #174EA6;\n",
              "    }\n",
              "\n",
              "    .colab-df-buttons div {\n",
              "      margin-bottom: 4px;\n",
              "    }\n",
              "\n",
              "    [theme=dark] .colab-df-convert {\n",
              "      background-color: #3B4455;\n",
              "      fill: #D2E3FC;\n",
              "    }\n",
              "\n",
              "    [theme=dark] .colab-df-convert:hover {\n",
              "      background-color: #434B5C;\n",
              "      box-shadow: 0px 1px 3px 1px rgba(0, 0, 0, 0.15);\n",
              "      filter: drop-shadow(0px 1px 2px rgba(0, 0, 0, 0.3));\n",
              "      fill: #FFFFFF;\n",
              "    }\n",
              "  </style>\n",
              "\n",
              "    <script>\n",
              "      const buttonEl =\n",
              "        document.querySelector('#df-20cd9018-6f95-4222-a241-767269d1d965 button.colab-df-convert');\n",
              "      buttonEl.style.display =\n",
              "        google.colab.kernel.accessAllowed ? 'block' : 'none';\n",
              "\n",
              "      async function convertToInteractive(key) {\n",
              "        const element = document.querySelector('#df-20cd9018-6f95-4222-a241-767269d1d965');\n",
              "        const dataTable =\n",
              "          await google.colab.kernel.invokeFunction('convertToInteractive',\n",
              "                                                    [key], {});\n",
              "        if (!dataTable) return;\n",
              "\n",
              "        const docLinkHtml = 'Like what you see? Visit the ' +\n",
              "          '<a target=\"_blank\" href=https://colab.research.google.com/notebooks/data_table.ipynb>data table notebook</a>'\n",
              "          + ' to learn more about interactive tables.';\n",
              "        element.innerHTML = '';\n",
              "        dataTable['output_type'] = 'display_data';\n",
              "        await google.colab.output.renderOutput(dataTable, element);\n",
              "        const docLink = document.createElement('div');\n",
              "        docLink.innerHTML = docLinkHtml;\n",
              "        element.appendChild(docLink);\n",
              "      }\n",
              "    </script>\n",
              "  </div>\n",
              "\n",
              "    </div>\n",
              "  </div>\n"
            ]
          },
          "metadata": {},
          "execution_count": 184
        }
      ]
    },
    {
      "cell_type": "markdown",
      "source": [
        "### Ano de Criação da Conta"
      ],
      "metadata": {
        "id": "SNWmkNAps56M"
      }
    },
    {
      "cell_type": "code",
      "source": [
        "# Cria um gráfico de contagem\n",
        "plt.figure(figsize=(10, 6))\n",
        "sns.countplot(data=df_mark_dt, x='registration_date_year', palette='viridis',width=0.8)\n",
        "plt.title('Quantidade de Contas Criadas por Ano')\n",
        "plt.xlabel('Ano de Criação')\n",
        "plt.ylabel('Quantidade de Contas')\n",
        "plt.xticks(rotation=45)  # Para rotacionar os rótulos do eixo x, se necessário\n",
        "plt.show()"
      ],
      "metadata": {
        "colab": {
          "base_uri": "https://localhost:8080/",
          "height": 585
        },
        "id": "Fg8MUmpcs-Zc",
        "outputId": "57ceb68b-128c-48e5-d6cc-e629257bf161"
      },
      "execution_count": null,
      "outputs": [
        {
          "output_type": "display_data",
          "data": {
            "text/plain": [
              "<Figure size 1000x600 with 1 Axes>"
            ],
            "image/png": "[encoded data removed]"
          },
          "metadata": {}
        }
      ]
    },
    {
      "cell_type": "code",
      "source": [
        "df_mark_dt[df_mark_dt.registration_date_year == 2020].registration_date_month.max() #mes máximo de registro de 2020"
      ],
      "metadata": {
        "colab": {
          "base_uri": "https://localhost:8080/"
        },
        "id": "DuO48HU6f2Nz",
        "outputId": "38b1ef7a-f03e-4813-ac05-7c0e2ace7dc0"
      },
      "execution_count": null,
      "outputs": [
        {
          "output_type": "execute_result",
          "data": {
            "text/plain": [
              "2"
            ]
          },
          "metadata": {},
          "execution_count": 223
        }
      ]
    },
    {
      "cell_type": "code",
      "source": [
        "# Cria um gráfico de contagem\n",
        "fil = df_mark_dt.registration_date_year >= 2016\n",
        "plt.figure(figsize=(10, 6))\n",
        "sns.countplot(data=df_mark_dt[fil], x='registration_date_month', palette='viridis',width=0.8)\n",
        "plt.title('Quantidade de Contas Criadas por Mês em 2019')\n",
        "plt.xlabel('Mês de Criação')\n",
        "plt.ylabel('Quantidade de Contas')\n",
        "plt.xticks(rotation=45)\n",
        "plt.show()"
      ],
      "metadata": {
        "colab": {
          "base_uri": "https://localhost:8080/",
          "height": 574
        },
        "id": "CkvH3pa3uyDA",
        "outputId": "a50eb488-f433-4f0b-cafa-816c1314bc0f"
      },
      "execution_count": null,
      "outputs": [
        {
          "output_type": "display_data",
          "data": {
            "text/plain": [
              "<Figure size 1000x600 with 1 Axes>"
            ],
            "image/png": "[encoded data removed]"
          },
          "metadata": {}
        }
      ]
    },
    {
      "cell_type": "markdown",
      "source": [
        "### Qual o tempo de conta dos clientes?"
      ],
      "metadata": {
        "id": "6qwkH6NnC7o0"
      }
    },
    {
      "cell_type": "code",
      "source": [
        "df_mark_dt['customer_tenure'] = (pd.to_datetime('2020-02-29') - df_mark_dt['registration_date']).dt.days"
      ],
      "metadata": {
        "id": "0pg2Jw6bDA2B"
      },
      "execution_count": null,
      "outputs": []
    },
    {
      "cell_type": "code",
      "source": [
        "# Crie um histograma da coluna 'diferenca_dias'.\n",
        "plt.figure(figsize=(10, 6))\n",
        "sns.histplot(df_mark_dt['customer_tenure'], bins=20, kde=True)  # Você pode ajustar o número de bins conforme necessário.\n",
        "plt.xlabel('Tempo de Conta dos Clientes')\n",
        "plt.ylabel('Frequência')\n",
        "plt.title('Distribuição da Diferença de Dias entre Criação e Primeira Compra')\n",
        "plt.show()"
      ],
      "metadata": {
        "colab": {
          "base_uri": "https://localhost:8080/",
          "height": 564
        },
        "id": "7qll55ysEHMT",
        "outputId": "6d8660eb-bfca-4a66-858e-0bf4e95de1d1"
      },
      "execution_count": null,
      "outputs": [
        {
          "output_type": "display_data",
          "data": {
            "text/plain": [
              "<Figure size 1000x600 with 1 Axes>"
            ],
            "image/png": "[encoded data removed]"
          },
          "metadata": {}
        }
      ]
    },
    {
      "cell_type": "markdown",
      "source": [
        "### Quantas dessas contas criadas nos ultimos 4 anos estão ativas?"
      ],
      "metadata": {
        "id": "dNa2JMIWvqdc"
      }
    },
    {
      "cell_type": "code",
      "source": [
        "# Cria um gráfico de contagem\n",
        "plt.figure(figsize=(10, 6))\n",
        "fil = df_mark_dt.registration_date_year.isin([2016,2017,2018, 2019, 2020])\n",
        "sns.countplot(data=df_mark_dt[fil], x='registration_date_year', hue='ifood_status',width=0.8)\n",
        "plt.title('Estado das contas em Fevereiro, por ano de criação')\n",
        "plt.xlabel('Ano de Criação')\n",
        "plt.ylabel('Quantidade de Contas')\n",
        "plt.xticks(rotation=45)  # Para rotacionar os rótulos do eixo x, se necessário\n",
        "plt.show()"
      ],
      "metadata": {
        "colab": {
          "base_uri": "https://localhost:8080/",
          "height": 585
        },
        "id": "G3qBdYXXs-lx",
        "outputId": "0c917ae7-7679-4767-b07b-db9ef5c8e6be"
      },
      "execution_count": null,
      "outputs": [
        {
          "output_type": "display_data",
          "data": {
            "text/plain": [
              "<Figure size 1000x600 with 1 Axes>"
            ],
            "image/png": "[encoded data removed]"
          },
          "metadata": {}
        }
      ]
    },
    {
      "cell_type": "code",
      "source": [
        "# Crie um histograma da coluna 'diferenca_dias'.\n",
        "plt.figure(figsize=(10, 6))\n",
        "sns.histplot(df_mark_dt, x='customer_tenure', hue='ifood_status',  bins=30)  # Você pode ajustar o número de bins conforme necessário.\n",
        "plt.xlabel('Tempo de Conta dos Clientes')\n",
        "plt.ylabel('Frequência')\n",
        "plt.title('Distribuição da Diferença de Dias entre Criação e Primeira Compra')\n",
        "plt.show()"
      ],
      "metadata": {
        "colab": {
          "base_uri": "https://localhost:8080/",
          "height": 564
        },
        "id": "TgQa_1hCEZ7I",
        "outputId": "c684ad59-4993-42b2-b92c-a678cf56aeaa"
      },
      "execution_count": null,
      "outputs": [
        {
          "output_type": "display_data",
          "data": {
            "text/plain": [
              "<Figure size 1000x600 with 1 Axes>"
            ],
            "image/png": "[encoded data removed]"
          },
          "metadata": {}
        }
      ]
    },
    {
      "cell_type": "markdown",
      "source": [
        "### Tempo entre a criação da conta e a primeira compra?"
      ],
      "metadata": {
        "id": "v-tWtDJzxqRh"
      }
    },
    {
      "cell_type": "code",
      "source": [
        "df_mark_dt['sleep_time'] = (df_mark_dt['registration_date'] - df_mark_dt['first_order_date']).dt.days"
      ],
      "metadata": {
        "id": "FZ3sXzNGxvb3"
      },
      "execution_count": null,
      "outputs": []
    },
    {
      "cell_type": "code",
      "source": [
        "# Crie um histograma da coluna 'diferenca_dias'.\n",
        "plt.figure(figsize=(10, 6))\n",
        "sns.histplot(df_mark_dt['sleep_time'], bins=20, kde=True)  # Você pode ajustar o número de bins conforme necessário.\n",
        "plt.xlabel('Diferença de Dias')\n",
        "plt.ylabel('Frequência')\n",
        "plt.title('Distribuição da Diferença de Dias entre Criação e Primeira Compra')\n",
        "plt.show()"
      ],
      "metadata": {
        "colab": {
          "base_uri": "https://localhost:8080/",
          "height": 564
        },
        "id": "86DAq2dzom-T",
        "outputId": "8fa88d63-2c91-4894-f26a-aef870d83dc7"
      },
      "execution_count": null,
      "outputs": [
        {
          "output_type": "display_data",
          "data": {
            "text/plain": [
              "<Figure size 1000x600 with 1 Axes>"
            ],
            "image/png": "[encoded data removed]"
          },
          "metadata": {}
        }
      ]
    },
    {
      "cell_type": "code",
      "source": [
        "df_mark_dt.sleep_time.describe()"
      ],
      "metadata": {
        "colab": {
          "base_uri": "https://localhost:8080/"
        },
        "id": "z_Cw2ffGzyjH",
        "outputId": "33d1fba0-059e-4626-d681-6dbc94e41e8e"
      },
      "execution_count": null,
      "outputs": [
        {
          "output_type": "execute_result",
          "data": {
            "text/plain": [
              "count    20248.000000\n",
              "mean      -155.923548\n",
              "std        396.336218\n",
              "min      -3633.000000\n",
              "25%        -64.000000\n",
              "50%          0.000000\n",
              "75%          0.000000\n",
              "max        899.000000\n",
              "Name: sleep_time, dtype: float64"
            ]
          },
          "metadata": {},
          "execution_count": 193
        }
      ]
    },
    {
      "cell_type": "code",
      "source": [
        "df_mark_dt.groupby('registration_date_year')['sleep_time'].agg(['min', 'max' ,'mean','std','median'])"
      ],
      "metadata": {
        "colab": {
          "base_uri": "https://localhost:8080/",
          "height": 457
        },
        "id": "rJ1D1dwdz8Gp",
        "outputId": "2e07d731-a240-4dbb-86fb-854fc222fc4e"
      },
      "execution_count": null,
      "outputs": [
        {
          "output_type": "execute_result",
          "data": {
            "text/plain": [
              "                         min   max         mean         std  median\n",
              "registration_date_year                                             \n",
              "2009                   -3281 -2524 -2858.666667  280.075670 -2899.0\n",
              "2010                   -3633 -1065 -1938.978261  605.154797 -1803.0\n",
              "2011                   -3280   -21 -1298.630000  745.783338 -1190.5\n",
              "2012                   -2960   348  -666.090909  823.543632  -123.0\n",
              "2013                   -2475   574  -445.258134  644.524475   -21.0\n",
              "2014                   -2124   899  -309.082117  515.352826    -1.0\n",
              "2015                   -1784     1  -211.803990  385.282114     0.0\n",
              "2016                   -1446     1   -84.777932  231.935122     0.0\n",
              "2017                   -1133     1   -77.445126  192.514499     0.0\n",
              "2018                    -762     1   -58.493633  126.240315     0.0\n",
              "2019                    -464     1   -33.647202   68.479535    -1.0\n",
              "2020                    -197     1    -4.601390   12.535003     0.0"
            ],
            "text/html": [
              "\n",
              "  <div id=\"df-db6c1eb0-d3ff-4fd5-a26c-97ede97d974c\" class=\"colab-df-container\">\n",
              "    <div>\n",
              "<style scoped>\n",
              "    .dataframe tbody tr th:only-of-type {\n",
              "        vertical-align: middle;\n",
              "    }\n",
              "\n",
              "    .dataframe tbody tr th {\n",
              "        vertical-align: top;\n",
              "    }\n",
              "\n",
              "    .dataframe thead th {\n",
              "        text-align: right;\n",
              "    }\n",
              "</style>\n",
              "<table border=\"1\" class=\"dataframe\">\n",
              "  <thead>\n",
              "    <tr style=\"text-align: right;\">\n",
              "      <th></th>\n",
              "      <th>min</th>\n",
              "      <th>max</th>\n",
              "      <th>mean</th>\n",
              "      <th>std</th>\n",
              "      <th>median</th>\n",
              "    </tr>\n",
              "    <tr>\n",
              "      <th>registration_date_year</th>\n",
              "      <th></th>\n",
              "      <th></th>\n",
              "      <th></th>\n",
              "      <th></th>\n",
              "      <th></th>\n",
              "    </tr>\n",
              "  </thead>\n",
              "  <tbody>\n",
              "    <tr>\n",
              "      <th>2009</th>\n",
              "      <td>-3281</td>\n",
              "      <td>-2524</td>\n",
              "      <td>-2858.666667</td>\n",
              "      <td>280.075670</td>\n",
              "      <td>-2899.0</td>\n",
              "    </tr>\n",
              "    <tr>\n",
              "      <th>2010</th>\n",
              "      <td>-3633</td>\n",
              "      <td>-1065</td>\n",
              "      <td>-1938.978261</td>\n",
              "      <td>605.154797</td>\n",
              "      <td>-1803.0</td>\n",
              "    </tr>\n",
              "    <tr>\n",
              "      <th>2011</th>\n",
              "      <td>-3280</td>\n",
              "      <td>-21</td>\n",
              "      <td>-1298.630000</td>\n",
              "      <td>745.783338</td>\n",
              "      <td>-1190.5</td>\n",
              "    </tr>\n",
              "    <tr>\n",
              "      <th>2012</th>\n",
              "      <td>-2960</td>\n",
              "      <td>348</td>\n",
              "      <td>-666.090909</td>\n",
              "      <td>823.543632</td>\n",
              "      <td>-123.0</td>\n",
              "    </tr>\n",
              "    <tr>\n",
              "      <th>2013</th>\n",
              "      <td>-2475</td>\n",
              "      <td>574</td>\n",
              "      <td>-445.258134</td>\n",
              "      <td>644.524475</td>\n",
              "      <td>-21.0</td>\n",
              "    </tr>\n",
              "    <tr>\n",
              "      <th>2014</th>\n",
              "      <td>-2124</td>\n",
              "      <td>899</td>\n",
              "      <td>-309.082117</td>\n",
              "      <td>515.352826</td>\n",
              "      <td>-1.0</td>\n",
              "    </tr>\n",
              "    <tr>\n",
              "      <th>2015</th>\n",
              "      <td>-1784</td>\n",
              "      <td>1</td>\n",
              "      <td>-211.803990</td>\n",
              "      <td>385.282114</td>\n",
              "      <td>0.0</td>\n",
              "    </tr>\n",
              "    <tr>\n",
              "      <th>2016</th>\n",
              "      <td>-1446</td>\n",
              "      <td>1</td>\n",
              "      <td>-84.777932</td>\n",
              "      <td>231.935122</td>\n",
              "      <td>0.0</td>\n",
              "    </tr>\n",
              "    <tr>\n",
              "      <th>2017</th>\n",
              "      <td>-1133</td>\n",
              "      <td>1</td>\n",
              "      <td>-77.445126</td>\n",
              "      <td>192.514499</td>\n",
              "      <td>0.0</td>\n",
              "    </tr>\n",
              "    <tr>\n",
              "      <th>2018</th>\n",
              "      <td>-762</td>\n",
              "      <td>1</td>\n",
              "      <td>-58.493633</td>\n",
              "      <td>126.240315</td>\n",
              "      <td>0.0</td>\n",
              "    </tr>\n",
              "    <tr>\n",
              "      <th>2019</th>\n",
              "      <td>-464</td>\n",
              "      <td>1</td>\n",
              "      <td>-33.647202</td>\n",
              "      <td>68.479535</td>\n",
              "      <td>-1.0</td>\n",
              "    </tr>\n",
              "    <tr>\n",
              "      <th>2020</th>\n",
              "      <td>-197</td>\n",
              "      <td>1</td>\n",
              "      <td>-4.601390</td>\n",
              "      <td>12.535003</td>\n",
              "      <td>0.0</td>\n",
              "    </tr>\n",
              "  </tbody>\n",
              "</table>\n",
              "</div>\n",
              "    <div class=\"colab-df-buttons\">\n",
              "\n",
              "  <div class=\"colab-df-container\">\n",
              "    <button class=\"colab-df-convert\" onclick=\"convertToInteractive('df-db6c1eb0-d3ff-4fd5-a26c-97ede97d974c')\"\n",
              "            title=\"Convert this dataframe to an interactive table.\"\n",
              "            style=\"display:none;\">\n",
              "\n",
              "  <svg xmlns=\"http://www.w3.org/2000/svg\" height=\"24px\" viewBox=\"0 -960 960 960\">\n",
              "    <path d=\"M120-120v-720h720v720H120Zm60-500h600v-160H180v160Zm220 220h160v-160H400v160Zm0 220h160v-160H400v160ZM180-400h160v-160H180v160Zm440 0h160v-160H620v160ZM180-180h160v-160H180v160Zm440 0h160v-160H620v160Z\"/>\n",
              "  </svg>\n",
              "    </button>\n",
              "\n",
              "  <style>\n",
              "    .colab-df-container {\n",
              "      display:flex;\n",
              "      gap: 12px;\n",
              "    }\n",
              "\n",
              "    .colab-df-convert {\n",
              "      background-color: #E8F0FE;\n",
              "      border: none;\n",
              "      border-radius: 50%;\n",
              "      cursor: pointer;\n",
              "      display: none;\n",
              "      fill: #1967D2;\n",
              "      height: 32px;\n",
              "      padding: 0 0 0 0;\n",
              "      width: 32px;\n",
              "    }\n",
              "\n",
              "    .colab-df-convert:hover {\n",
              "      background-color: #E2EBFA;\n",
              "      box-shadow: 0px 1px 2px rgba(60, 64, 67, 0.3), 0px 1px 3px 1px rgba(60, 64, 67, 0.15);\n",
              "      fill: #174EA6;\n",
              "    }\n",
              "\n",
              "    .colab-df-buttons div {\n",
              "      margin-bottom: 4px;\n",
              "    }\n",
              "\n",
              "    [theme=dark] .colab-df-convert {\n",
              "      background-color: #3B4455;\n",
              "      fill: #D2E3FC;\n",
              "    }\n",
              "\n",
              "    [theme=dark] .colab-df-convert:hover {\n",
              "      background-color: #434B5C;\n",
              "      box-shadow: 0px 1px 3px 1px rgba(0, 0, 0, 0.15);\n",
              "      filter: drop-shadow(0px 1px 2px rgba(0, 0, 0, 0.3));\n",
              "      fill: #FFFFFF;\n",
              "    }\n",
              "  </style>\n",
              "\n",
              "    <script>\n",
              "      const buttonEl =\n",
              "        document.querySelector('#df-db6c1eb0-d3ff-4fd5-a26c-97ede97d974c button.colab-df-convert');\n",
              "      buttonEl.style.display =\n",
              "        google.colab.kernel.accessAllowed ? 'block' : 'none';\n",
              "\n",
              "      async function convertToInteractive(key) {\n",
              "        const element = document.querySelector('#df-db6c1eb0-d3ff-4fd5-a26c-97ede97d974c');\n",
              "        const dataTable =\n",
              "          await google.colab.kernel.invokeFunction('convertToInteractive',\n",
              "                                                    [key], {});\n",
              "        if (!dataTable) return;\n",
              "\n",
              "        const docLinkHtml = 'Like what you see? Visit the ' +\n",
              "          '<a target=\"_blank\" href=https://colab.research.google.com/notebooks/data_table.ipynb>data table notebook</a>'\n",
              "          + ' to learn more about interactive tables.';\n",
              "        element.innerHTML = '';\n",
              "        dataTable['output_type'] = 'display_data';\n",
              "        await google.colab.output.renderOutput(dataTable, element);\n",
              "        const docLink = document.createElement('div');\n",
              "        docLink.innerHTML = docLinkHtml;\n",
              "        element.appendChild(docLink);\n",
              "      }\n",
              "    </script>\n",
              "  </div>\n",
              "\n",
              "\n",
              "<div id=\"df-84d5b4c8-94f9-4e38-a226-f383e07547b4\">\n",
              "  <button class=\"colab-df-quickchart\" onclick=\"quickchart('df-84d5b4c8-94f9-4e38-a226-f383e07547b4')\"\n",
              "            title=\"Suggest charts.\"\n",
              "            style=\"display:none;\">\n",
              "\n",
              "<svg xmlns=\"http://www.w3.org/2000/svg\" height=\"24px\"viewBox=\"0 0 24 24\"\n",
              "     width=\"24px\">\n",
              "    <g>\n",
              "        <path d=\"M19 3H5c-1.1 0-2 .9-2 2v14c0 1.1.9 2 2 2h14c1.1 0 2-.9 2-2V5c0-1.1-.9-2-2-2zM9 17H7v-7h2v7zm4 0h-2V7h2v10zm4 0h-2v-4h2v4z\"/>\n",
              "    </g>\n",
              "</svg>\n",
              "  </button>\n",
              "\n",
              "<style>\n",
              "  .colab-df-quickchart {\n",
              "      --bg-color: #E8F0FE;\n",
              "      --fill-color: #1967D2;\n",
              "      --hover-bg-color: #E2EBFA;\n",
              "      --hover-fill-color: #174EA6;\n",
              "      --disabled-fill-color: #AAA;\n",
              "      --disabled-bg-color: #DDD;\n",
              "  }\n",
              "\n",
              "  [theme=dark] .colab-df-quickchart {\n",
              "      --bg-color: #3B4455;\n",
              "      --fill-color: #D2E3FC;\n",
              "      --hover-bg-color: #434B5C;\n",
              "      --hover-fill-color: #FFFFFF;\n",
              "      --disabled-bg-color: #3B4455;\n",
              "      --disabled-fill-color: #666;\n",
              "  }\n",
              "\n",
              "  .colab-df-quickchart {\n",
              "    background-color: var(--bg-color);\n",
              "    border: none;\n",
              "    border-radius: 50%;\n",
              "    cursor: pointer;\n",
              "    display: none;\n",
              "    fill: var(--fill-color);\n",
              "    height: 32px;\n",
              "    padding: 0;\n",
              "    width: 32px;\n",
              "  }\n",
              "\n",
              "  .colab-df-quickchart:hover {\n",
              "    background-color: var(--hover-bg-color);\n",
              "    box-shadow: 0 1px 2px rgba(60, 64, 67, 0.3), 0 1px 3px 1px rgba(60, 64, 67, 0.15);\n",
              "    fill: var(--button-hover-fill-color);\n",
              "  }\n",
              "\n",
              "  .colab-df-quickchart-complete:disabled,\n",
              "  .colab-df-quickchart-complete:disabled:hover {\n",
              "    background-color: var(--disabled-bg-color);\n",
              "    fill: var(--disabled-fill-color);\n",
              "    box-shadow: none;\n",
              "  }\n",
              "\n",
              "  .colab-df-spinner {\n",
              "    border: 2px solid var(--fill-color);\n",
              "    border-color: transparent;\n",
              "    border-bottom-color: var(--fill-color);\n",
              "    animation:\n",
              "      spin 1s steps(1) infinite;\n",
              "  }\n",
              "\n",
              "  @keyframes spin {\n",
              "    0% {\n",
              "      border-color: transparent;\n",
              "      border-bottom-color: var(--fill-color);\n",
              "      border-left-color: var(--fill-color);\n",
              "    }\n",
              "    20% {\n",
              "      border-color: transparent;\n",
              "      border-left-color: var(--fill-color);\n",
              "      border-top-color: var(--fill-color);\n",
              "    }\n",
              "    30% {\n",
              "      border-color: transparent;\n",
              "      border-left-color: var(--fill-color);\n",
              "      border-top-color: var(--fill-color);\n",
              "      border-right-color: var(--fill-color);\n",
              "    }\n",
              "    40% {\n",
              "      border-color: transparent;\n",
              "      border-right-color: var(--fill-color);\n",
              "      border-top-color: var(--fill-color);\n",
              "    }\n",
              "    60% {\n",
              "      border-color: transparent;\n",
              "      border-right-color: var(--fill-color);\n",
              "    }\n",
              "    80% {\n",
              "      border-color: transparent;\n",
              "      border-right-color: var(--fill-color);\n",
              "      border-bottom-color: var(--fill-color);\n",
              "    }\n",
              "    90% {\n",
              "      border-color: transparent;\n",
              "      border-bottom-color: var(--fill-color);\n",
              "    }\n",
              "  }\n",
              "</style>\n",
              "\n",
              "  <script>\n",
              "    async function quickchart(key) {\n",
              "      const quickchartButtonEl =\n",
              "        document.querySelector('#' + key + ' button');\n",
              "      quickchartButtonEl.disabled = true;  // To prevent multiple clicks.\n",
              "      quickchartButtonEl.classList.add('colab-df-spinner');\n",
              "      try {\n",
              "        const charts = await google.colab.kernel.invokeFunction(\n",
              "            'suggestCharts', [key], {});\n",
              "      } catch (error) {\n",
              "        console.error('Error during call to suggestCharts:', error);\n",
              "      }\n",
              "      quickchartButtonEl.classList.remove('colab-df-spinner');\n",
              "      quickchartButtonEl.classList.add('colab-df-quickchart-complete');\n",
              "    }\n",
              "    (() => {\n",
              "      let quickchartButtonEl =\n",
              "        document.querySelector('#df-84d5b4c8-94f9-4e38-a226-f383e07547b4 button');\n",
              "      quickchartButtonEl.style.display =\n",
              "        google.colab.kernel.accessAllowed ? 'block' : 'none';\n",
              "    })();\n",
              "  </script>\n",
              "</div>\n",
              "    </div>\n",
              "  </div>\n"
            ]
          },
          "metadata": {},
          "execution_count": 194
        }
      ]
    },
    {
      "cell_type": "markdown",
      "source": [
        "### Quem ta errado aqui?"
      ],
      "metadata": {
        "id": "VYQQ6ePu3N4g"
      }
    },
    {
      "cell_type": "code",
      "source": [
        "df_mark_dt['sleep_time'] = (df_mark_dt['first_order_date'] - df_mark_dt['registration_date']).dt.days"
      ],
      "metadata": {
        "id": "z_MLpl2P3SB_"
      },
      "execution_count": null,
      "outputs": []
    },
    {
      "cell_type": "code",
      "source": [
        "# Crie um histograma da coluna 'diferenca_dias'.\n",
        "plt.figure(figsize=(10, 6))\n",
        "sns.histplot(df_mark_dt['sleep_time'], bins=20, kde=True)  # Você pode ajustar o número de bins conforme necessário.\n",
        "plt.xlabel('Diferença de Dias')\n",
        "plt.ylabel('Frequência')\n",
        "plt.title('Distribuição da Diferença de Dias entre Criação e Primeira Compra')\n",
        "plt.show()"
      ],
      "metadata": {
        "colab": {
          "base_uri": "https://localhost:8080/",
          "height": 564
        },
        "id": "J2DbTYMe2L7s",
        "outputId": "955d18de-f62b-444e-d13f-f579e92992af"
      },
      "execution_count": null,
      "outputs": [
        {
          "output_type": "display_data",
          "data": {
            "text/plain": [
              "<Figure size 1000x600 with 1 Axes>"
            ],
            "image/png": "[encoded data removed]"
          },
          "metadata": {}
        }
      ]
    },
    {
      "cell_type": "code",
      "source": [
        "df_mark_dt.groupby('registration_date_year')['sleep_time'].agg(['min', 'max' ,'mean','std','median'])"
      ],
      "metadata": {
        "colab": {
          "base_uri": "https://localhost:8080/",
          "height": 457
        },
        "id": "3-T2u7R-3nln",
        "outputId": "e0c21a9b-170a-49aa-a86c-60050cc3d785"
      },
      "execution_count": null,
      "outputs": [
        {
          "output_type": "execute_result",
          "data": {
            "text/plain": [
              "                         min   max         mean         std  median\n",
              "registration_date_year                                             \n",
              "2009                    2524  3281  2858.666667  280.075670  2899.0\n",
              "2010                    1065  3633  1938.978261  605.154797  1803.0\n",
              "2011                      21  3280  1298.630000  745.783338  1190.5\n",
              "2012                    -348  2960   666.090909  823.543632   123.0\n",
              "2013                    -574  2475   445.258134  644.524475    21.0\n",
              "2014                    -899  2124   309.082117  515.352826     1.0\n",
              "2015                      -1  1784   211.803990  385.282114     0.0\n",
              "2016                      -1  1446    84.777932  231.935122     0.0\n",
              "2017                      -1  1133    77.445126  192.514499     0.0\n",
              "2018                      -1   762    58.493633  126.240315     0.0\n",
              "2019                      -1   464    33.647202   68.479535     1.0\n",
              "2020                      -1   197     4.601390   12.535003     0.0"
            ],
            "text/html": [
              "\n",
              "  <div id=\"df-285cdcd4-29ca-4e43-a72b-71135791d56c\" class=\"colab-df-container\">\n",
              "    <div>\n",
              "<style scoped>\n",
              "    .dataframe tbody tr th:only-of-type {\n",
              "        vertical-align: middle;\n",
              "    }\n",
              "\n",
              "    .dataframe tbody tr th {\n",
              "        vertical-align: top;\n",
              "    }\n",
              "\n",
              "    .dataframe thead th {\n",
              "        text-align: right;\n",
              "    }\n",
              "</style>\n",
              "<table border=\"1\" class=\"dataframe\">\n",
              "  <thead>\n",
              "    <tr style=\"text-align: right;\">\n",
              "      <th></th>\n",
              "      <th>min</th>\n",
              "      <th>max</th>\n",
              "      <th>mean</th>\n",
              "      <th>std</th>\n",
              "      <th>median</th>\n",
              "    </tr>\n",
              "    <tr>\n",
              "      <th>registration_date_year</th>\n",
              "      <th></th>\n",
              "      <th></th>\n",
              "      <th></th>\n",
              "      <th></th>\n",
              "      <th></th>\n",
              "    </tr>\n",
              "  </thead>\n",
              "  <tbody>\n",
              "    <tr>\n",
              "      <th>2009</th>\n",
              "      <td>2524</td>\n",
              "      <td>3281</td>\n",
              "      <td>2858.666667</td>\n",
              "      <td>280.075670</td>\n",
              "      <td>2899.0</td>\n",
              "    </tr>\n",
              "    <tr>\n",
              "      <th>2010</th>\n",
              "      <td>1065</td>\n",
              "      <td>3633</td>\n",
              "      <td>1938.978261</td>\n",
              "      <td>605.154797</td>\n",
              "      <td>1803.0</td>\n",
              "    </tr>\n",
              "    <tr>\n",
              "      <th>2011</th>\n",
              "      <td>21</td>\n",
              "      <td>3280</td>\n",
              "      <td>1298.630000</td>\n",
              "      <td>745.783338</td>\n",
              "      <td>1190.5</td>\n",
              "    </tr>\n",
              "    <tr>\n",
              "      <th>2012</th>\n",
              "      <td>-348</td>\n",
              "      <td>2960</td>\n",
              "      <td>666.090909</td>\n",
              "      <td>823.543632</td>\n",
              "      <td>123.0</td>\n",
              "    </tr>\n",
              "    <tr>\n",
              "      <th>2013</th>\n",
              "      <td>-574</td>\n",
              "      <td>2475</td>\n",
              "      <td>445.258134</td>\n",
              "      <td>644.524475</td>\n",
              "      <td>21.0</td>\n",
              "    </tr>\n",
              "    <tr>\n",
              "      <th>2014</th>\n",
              "      <td>-899</td>\n",
              "      <td>2124</td>\n",
              "      <td>309.082117</td>\n",
              "      <td>515.352826</td>\n",
              "      <td>1.0</td>\n",
              "    </tr>\n",
              "    <tr>\n",
              "      <th>2015</th>\n",
              "      <td>-1</td>\n",
              "      <td>1784</td>\n",
              "      <td>211.803990</td>\n",
              "      <td>385.282114</td>\n",
              "      <td>0.0</td>\n",
              "    </tr>\n",
              "    <tr>\n",
              "      <th>2016</th>\n",
              "      <td>-1</td>\n",
              "      <td>1446</td>\n",
              "      <td>84.777932</td>\n",
              "      <td>231.935122</td>\n",
              "      <td>0.0</td>\n",
              "    </tr>\n",
              "    <tr>\n",
              "      <th>2017</th>\n",
              "      <td>-1</td>\n",
              "      <td>1133</td>\n",
              "      <td>77.445126</td>\n",
              "      <td>192.514499</td>\n",
              "      <td>0.0</td>\n",
              "    </tr>\n",
              "    <tr>\n",
              "      <th>2018</th>\n",
              "      <td>-1</td>\n",
              "      <td>762</td>\n",
              "      <td>58.493633</td>\n",
              "      <td>126.240315</td>\n",
              "      <td>0.0</td>\n",
              "    </tr>\n",
              "    <tr>\n",
              "      <th>2019</th>\n",
              "      <td>-1</td>\n",
              "      <td>464</td>\n",
              "      <td>33.647202</td>\n",
              "      <td>68.479535</td>\n",
              "      <td>1.0</td>\n",
              "    </tr>\n",
              "    <tr>\n",
              "      <th>2020</th>\n",
              "      <td>-1</td>\n",
              "      <td>197</td>\n",
              "      <td>4.601390</td>\n",
              "      <td>12.535003</td>\n",
              "      <td>0.0</td>\n",
              "    </tr>\n",
              "  </tbody>\n",
              "</table>\n",
              "</div>\n",
              "    <div class=\"colab-df-buttons\">\n",
              "\n",
              "  <div class=\"colab-df-container\">\n",
              "    <button class=\"colab-df-convert\" onclick=\"convertToInteractive('df-285cdcd4-29ca-4e43-a72b-71135791d56c')\"\n",
              "            title=\"Convert this dataframe to an interactive table.\"\n",
              "            style=\"display:none;\">\n",
              "\n",
              "  <svg xmlns=\"http://www.w3.org/2000/svg\" height=\"24px\" viewBox=\"0 -960 960 960\">\n",
              "    <path d=\"M120-120v-720h720v720H120Zm60-500h600v-160H180v160Zm220 220h160v-160H400v160Zm0 220h160v-160H400v160ZM180-400h160v-160H180v160Zm440 0h160v-160H620v160ZM180-180h160v-160H180v160Zm440 0h160v-160H620v160Z\"/>\n",
              "  </svg>\n",
              "    </button>\n",
              "\n",
              "  <style>\n",
              "    .colab-df-container {\n",
              "      display:flex;\n",
              "      gap: 12px;\n",
              "    }\n",
              "\n",
              "    .colab-df-convert {\n",
              "      background-color: #E8F0FE;\n",
              "      border: none;\n",
              "      border-radius: 50%;\n",
              "      cursor: pointer;\n",
              "      display: none;\n",
              "      fill: #1967D2;\n",
              "      height: 32px;\n",
              "      padding: 0 0 0 0;\n",
              "      width: 32px;\n",
              "    }\n",
              "\n",
              "    .colab-df-convert:hover {\n",
              "      background-color: #E2EBFA;\n",
              "      box-shadow: 0px 1px 2px rgba(60, 64, 67, 0.3), 0px 1px 3px 1px rgba(60, 64, 67, 0.15);\n",
              "      fill: #174EA6;\n",
              "    }\n",
              "\n",
              "    .colab-df-buttons div {\n",
              "      margin-bottom: 4px;\n",
              "    }\n",
              "\n",
              "    [theme=dark] .colab-df-convert {\n",
              "      background-color: #3B4455;\n",
              "      fill: #D2E3FC;\n",
              "    }\n",
              "\n",
              "    [theme=dark] .colab-df-convert:hover {\n",
              "      background-color: #434B5C;\n",
              "      box-shadow: 0px 1px 3px 1px rgba(0, 0, 0, 0.15);\n",
              "      filter: drop-shadow(0px 1px 2px rgba(0, 0, 0, 0.3));\n",
              "      fill: #FFFFFF;\n",
              "    }\n",
              "  </style>\n",
              "\n",
              "    <script>\n",
              "      const buttonEl =\n",
              "        document.querySelector('#df-285cdcd4-29ca-4e43-a72b-71135791d56c button.colab-df-convert');\n",
              "      buttonEl.style.display =\n",
              "        google.colab.kernel.accessAllowed ? 'block' : 'none';\n",
              "\n",
              "      async function convertToInteractive(key) {\n",
              "        const element = document.querySelector('#df-285cdcd4-29ca-4e43-a72b-71135791d56c');\n",
              "        const dataTable =\n",
              "          await google.colab.kernel.invokeFunction('convertToInteractive',\n",
              "                                                    [key], {});\n",
              "        if (!dataTable) return;\n",
              "\n",
              "        const docLinkHtml = 'Like what you see? Visit the ' +\n",
              "          '<a target=\"_blank\" href=https://colab.research.google.com/notebooks/data_table.ipynb>data table notebook</a>'\n",
              "          + ' to learn more about interactive tables.';\n",
              "        element.innerHTML = '';\n",
              "        dataTable['output_type'] = 'display_data';\n",
              "        await google.colab.output.renderOutput(dataTable, element);\n",
              "        const docLink = document.createElement('div');\n",
              "        docLink.innerHTML = docLinkHtml;\n",
              "        element.appendChild(docLink);\n",
              "      }\n",
              "    </script>\n",
              "  </div>\n",
              "\n",
              "\n",
              "<div id=\"df-91125d2c-e286-42e5-b075-9bcc867dc0d7\">\n",
              "  <button class=\"colab-df-quickchart\" onclick=\"quickchart('df-91125d2c-e286-42e5-b075-9bcc867dc0d7')\"\n",
              "            title=\"Suggest charts.\"\n",
              "            style=\"display:none;\">\n",
              "\n",
              "<svg xmlns=\"http://www.w3.org/2000/svg\" height=\"24px\"viewBox=\"0 0 24 24\"\n",
              "     width=\"24px\">\n",
              "    <g>\n",
              "        <path d=\"M19 3H5c-1.1 0-2 .9-2 2v14c0 1.1.9 2 2 2h14c1.1 0 2-.9 2-2V5c0-1.1-.9-2-2-2zM9 17H7v-7h2v7zm4 0h-2V7h2v10zm4 0h-2v-4h2v4z\"/>\n",
              "    </g>\n",
              "</svg>\n",
              "  </button>\n",
              "\n",
              "<style>\n",
              "  .colab-df-quickchart {\n",
              "      --bg-color: #E8F0FE;\n",
              "      --fill-color: #1967D2;\n",
              "      --hover-bg-color: #E2EBFA;\n",
              "      --hover-fill-color: #174EA6;\n",
              "      --disabled-fill-color: #AAA;\n",
              "      --disabled-bg-color: #DDD;\n",
              "  }\n",
              "\n",
              "  [theme=dark] .colab-df-quickchart {\n",
              "      --bg-color: #3B4455;\n",
              "      --fill-color: #D2E3FC;\n",
              "      --hover-bg-color: #434B5C;\n",
              "      --hover-fill-color: #FFFFFF;\n",
              "      --disabled-bg-color: #3B4455;\n",
              "      --disabled-fill-color: #666;\n",
              "  }\n",
              "\n",
              "  .colab-df-quickchart {\n",
              "    background-color: var(--bg-color);\n",
              "    border: none;\n",
              "    border-radius: 50%;\n",
              "    cursor: pointer;\n",
              "    display: none;\n",
              "    fill: var(--fill-color);\n",
              "    height: 32px;\n",
              "    padding: 0;\n",
              "    width: 32px;\n",
              "  }\n",
              "\n",
              "  .colab-df-quickchart:hover {\n",
              "    background-color: var(--hover-bg-color);\n",
              "    box-shadow: 0 1px 2px rgba(60, 64, 67, 0.3), 0 1px 3px 1px rgba(60, 64, 67, 0.15);\n",
              "    fill: var(--button-hover-fill-color);\n",
              "  }\n",
              "\n",
              "  .colab-df-quickchart-complete:disabled,\n",
              "  .colab-df-quickchart-complete:disabled:hover {\n",
              "    background-color: var(--disabled-bg-color);\n",
              "    fill: var(--disabled-fill-color);\n",
              "    box-shadow: none;\n",
              "  }\n",
              "\n",
              "  .colab-df-spinner {\n",
              "    border: 2px solid var(--fill-color);\n",
              "    border-color: transparent;\n",
              "    border-bottom-color: var(--fill-color);\n",
              "    animation:\n",
              "      spin 1s steps(1) infinite;\n",
              "  }\n",
              "\n",
              "  @keyframes spin {\n",
              "    0% {\n",
              "      border-color: transparent;\n",
              "      border-bottom-color: var(--fill-color);\n",
              "      border-left-color: var(--fill-color);\n",
              "    }\n",
              "    20% {\n",
              "      border-color: transparent;\n",
              "      border-left-color: var(--fill-color);\n",
              "      border-top-color: var(--fill-color);\n",
              "    }\n",
              "    30% {\n",
              "      border-color: transparent;\n",
              "      border-left-color: var(--fill-color);\n",
              "      border-top-color: var(--fill-color);\n",
              "      border-right-color: var(--fill-color);\n",
              "    }\n",
              "    40% {\n",
              "      border-color: transparent;\n",
              "      border-right-color: var(--fill-color);\n",
              "      border-top-color: var(--fill-color);\n",
              "    }\n",
              "    60% {\n",
              "      border-color: transparent;\n",
              "      border-right-color: var(--fill-color);\n",
              "    }\n",
              "    80% {\n",
              "      border-color: transparent;\n",
              "      border-right-color: var(--fill-color);\n",
              "      border-bottom-color: var(--fill-color);\n",
              "    }\n",
              "    90% {\n",
              "      border-color: transparent;\n",
              "      border-bottom-color: var(--fill-color);\n",
              "    }\n",
              "  }\n",
              "</style>\n",
              "\n",
              "  <script>\n",
              "    async function quickchart(key) {\n",
              "      const quickchartButtonEl =\n",
              "        document.querySelector('#' + key + ' button');\n",
              "      quickchartButtonEl.disabled = true;  // To prevent multiple clicks.\n",
              "      quickchartButtonEl.classList.add('colab-df-spinner');\n",
              "      try {\n",
              "        const charts = await google.colab.kernel.invokeFunction(\n",
              "            'suggestCharts', [key], {});\n",
              "      } catch (error) {\n",
              "        console.error('Error during call to suggestCharts:', error);\n",
              "      }\n",
              "      quickchartButtonEl.classList.remove('colab-df-spinner');\n",
              "      quickchartButtonEl.classList.add('colab-df-quickchart-complete');\n",
              "    }\n",
              "    (() => {\n",
              "      let quickchartButtonEl =\n",
              "        document.querySelector('#df-91125d2c-e286-42e5-b075-9bcc867dc0d7 button');\n",
              "      quickchartButtonEl.style.display =\n",
              "        google.colab.kernel.accessAllowed ? 'block' : 'none';\n",
              "    })();\n",
              "  </script>\n",
              "</div>\n",
              "    </div>\n",
              "  </div>\n"
            ]
          },
          "metadata": {},
          "execution_count": 197
        }
      ]
    },
    {
      "cell_type": "markdown",
      "source": [
        "### Como esta variando o status dos meus clientes?"
      ],
      "metadata": {
        "id": "x332I5h_4RGh"
      }
    },
    {
      "cell_type": "code",
      "source": [
        "# Dados e rótulos para ifood_status\n",
        "statuses = ['Active', 'Inactive', 'Reactivated', 'Churn', 'Prospect']\n",
        "counts_status = [11648, 4805, 440, 3355, 1]\n",
        "\n",
        "# Dados e rótulos para ifood_status_last_month\n",
        "statuses_last_month = ['Active', 'Inactive', 'Reactivated', 'Churn', 'New', 'Prospect']\n",
        "counts_status_last_month = [14080, 4583, 922, 662, 1, 1]\n",
        "\n",
        "# Configurar subplots\n",
        "fig, axs = plt.subplots(1, 2, figsize=(12, 5))\n",
        "\n",
        "# Gráfico de pizza para ifood_status\n",
        "axs[0].pie(counts_status, labels=statuses, autopct='%1.1f%%', startangle=140)\n",
        "axs[0].set_title('ifood_status')\n",
        "axs[0].axis('equal')\n",
        "\n",
        "# Gráfico de pizza para ifood_status_last_month\n",
        "axs[1].pie(counts_status_last_month, labels=statuses_last_month, autopct='%1.1f%%', startangle=140)\n",
        "axs[1].set_title('ifood_status_last_month')\n",
        "axs[1].axis('equal')\n",
        "\n",
        "# Ajuste o espaçamento entre os gráficos\n",
        "plt.tight_layout()\n",
        "\n",
        "# Exibir os gráficos lado a lado\n",
        "plt.show()"
      ],
      "metadata": {
        "colab": {
          "base_uri": "https://localhost:8080/",
          "height": 506
        },
        "id": "GzTD8L4D4WzY",
        "outputId": "22fc62d6-89a1-4286-d11d-fccd597ccff3"
      },
      "execution_count": null,
      "outputs": [
        {
          "output_type": "display_data",
          "data": {
            "text/plain": [
              "<Figure size 1200x500 with 2 Axes>"
            ],
            "image/png": "[encoded data removed]"
          },
          "metadata": {}
        }
      ]
    },
    {
      "cell_type": "markdown",
      "source": [
        "### platform_status:\"Current customer situtation based on specific clusters:\n",
        " - New: First concluded order made on current month (Customer M0).\n",
        " - Reactivated: Customer have a concluded order on current month, no orders last month and is not a New Customer\n",
        " - Active: Customer have a concluded order on current month and is not Reactivated or New\n",
        " - Churn: Customer have concluded orders last month but hasn't mande and order on current month yet\n",
        " - Inactive: Customer has a first concluded order but hasn't been active on current and last month\n",
        " - Prospect: Customer hasn't made first order yet\""
      ],
      "metadata": {
        "id": "ielxy-WUBydI"
      }
    },
    {
      "cell_type": "markdown",
      "source": [
        "### Para quais grupos eles estão migrando?"
      ],
      "metadata": {
        "id": "X_uyyOPuMz_q"
      }
    },
    {
      "cell_type": "code",
      "source": [
        "df_mark_dt.groupby([ \"ifood_status_last_month\",\"ifood_status\"], as_index=False).agg({ \"account_id\": \"count\" })"
      ],
      "metadata": {
        "colab": {
          "base_uri": "https://localhost:8080/",
          "height": 332
        },
        "id": "Bx5PRQZl_BUi",
        "outputId": "20a7a73c-1ba4-466b-e555-a5847a79d240"
      },
      "execution_count": null,
      "outputs": [
        {
          "output_type": "execute_result",
          "data": {
            "text/plain": [
              "  ifood_status_last_month ifood_status  account_id\n",
              "0                  Active       Active       11312\n",
              "1                  Active        Churn        2768\n",
              "2                   Churn     Inactive         428\n",
              "3                   Churn  Reactivated         234\n",
              "4                Inactive     Inactive        4377\n",
              "5                Inactive  Reactivated         206\n",
              "6                     New        Churn           1\n",
              "7             Reactivated       Active         336\n",
              "8             Reactivated        Churn         586"
            ],
            "text/html": [
              "\n",
              "  <div id=\"df-f5f5f285-87af-4fdc-a36e-7c15a314ca00\" class=\"colab-df-container\">\n",
              "    <div>\n",
              "<style scoped>\n",
              "    .dataframe tbody tr th:only-of-type {\n",
              "        vertical-align: middle;\n",
              "    }\n",
              "\n",
              "    .dataframe tbody tr th {\n",
              "        vertical-align: top;\n",
              "    }\n",
              "\n",
              "    .dataframe thead th {\n",
              "        text-align: right;\n",
              "    }\n",
              "</style>\n",
              "<table border=\"1\" class=\"dataframe\">\n",
              "  <thead>\n",
              "    <tr style=\"text-align: right;\">\n",
              "      <th></th>\n",
              "      <th>ifood_status_last_month</th>\n",
              "      <th>ifood_status</th>\n",
              "      <th>account_id</th>\n",
              "    </tr>\n",
              "  </thead>\n",
              "  <tbody>\n",
              "    <tr>\n",
              "      <th>0</th>\n",
              "      <td>Active</td>\n",
              "      <td>Active</td>\n",
              "      <td>11312</td>\n",
              "    </tr>\n",
              "    <tr>\n",
              "      <th>1</th>\n",
              "      <td>Active</td>\n",
              "      <td>Churn</td>\n",
              "      <td>2768</td>\n",
              "    </tr>\n",
              "    <tr>\n",
              "      <th>2</th>\n",
              "      <td>Churn</td>\n",
              "      <td>Inactive</td>\n",
              "      <td>428</td>\n",
              "    </tr>\n",
              "    <tr>\n",
              "      <th>3</th>\n",
              "      <td>Churn</td>\n",
              "      <td>Reactivated</td>\n",
              "      <td>234</td>\n",
              "    </tr>\n",
              "    <tr>\n",
              "      <th>4</th>\n",
              "      <td>Inactive</td>\n",
              "      <td>Inactive</td>\n",
              "      <td>4377</td>\n",
              "    </tr>\n",
              "    <tr>\n",
              "      <th>5</th>\n",
              "      <td>Inactive</td>\n",
              "      <td>Reactivated</td>\n",
              "      <td>206</td>\n",
              "    </tr>\n",
              "    <tr>\n",
              "      <th>6</th>\n",
              "      <td>New</td>\n",
              "      <td>Churn</td>\n",
              "      <td>1</td>\n",
              "    </tr>\n",
              "    <tr>\n",
              "      <th>7</th>\n",
              "      <td>Reactivated</td>\n",
              "      <td>Active</td>\n",
              "      <td>336</td>\n",
              "    </tr>\n",
              "    <tr>\n",
              "      <th>8</th>\n",
              "      <td>Reactivated</td>\n",
              "      <td>Churn</td>\n",
              "      <td>586</td>\n",
              "    </tr>\n",
              "  </tbody>\n",
              "</table>\n",
              "</div>\n",
              "    <div class=\"colab-df-buttons\">\n",
              "\n",
              "  <div class=\"colab-df-container\">\n",
              "    <button class=\"colab-df-convert\" onclick=\"convertToInteractive('df-f5f5f285-87af-4fdc-a36e-7c15a314ca00')\"\n",
              "            title=\"Convert this dataframe to an interactive table.\"\n",
              "            style=\"display:none;\">\n",
              "\n",
              "  <svg xmlns=\"http://www.w3.org/2000/svg\" height=\"24px\" viewBox=\"0 -960 960 960\">\n",
              "    <path d=\"M120-120v-720h720v720H120Zm60-500h600v-160H180v160Zm220 220h160v-160H400v160Zm0 220h160v-160H400v160ZM180-400h160v-160H180v160Zm440 0h160v-160H620v160ZM180-180h160v-160H180v160Zm440 0h160v-160H620v160Z\"/>\n",
              "  </svg>\n",
              "    </button>\n",
              "\n",
              "  <style>\n",
              "    .colab-df-container {\n",
              "      display:flex;\n",
              "      gap: 12px;\n",
              "    }\n",
              "\n",
              "    .colab-df-convert {\n",
              "      background-color: #E8F0FE;\n",
              "      border: none;\n",
              "      border-radius: 50%;\n",
              "      cursor: pointer;\n",
              "      display: none;\n",
              "      fill: #1967D2;\n",
              "      height: 32px;\n",
              "      padding: 0 0 0 0;\n",
              "      width: 32px;\n",
              "    }\n",
              "\n",
              "    .colab-df-convert:hover {\n",
              "      background-color: #E2EBFA;\n",
              "      box-shadow: 0px 1px 2px rgba(60, 64, 67, 0.3), 0px 1px 3px 1px rgba(60, 64, 67, 0.15);\n",
              "      fill: #174EA6;\n",
              "    }\n",
              "\n",
              "    .colab-df-buttons div {\n",
              "      margin-bottom: 4px;\n",
              "    }\n",
              "\n",
              "    [theme=dark] .colab-df-convert {\n",
              "      background-color: #3B4455;\n",
              "      fill: #D2E3FC;\n",
              "    }\n",
              "\n",
              "    [theme=dark] .colab-df-convert:hover {\n",
              "      background-color: #434B5C;\n",
              "      box-shadow: 0px 1px 3px 1px rgba(0, 0, 0, 0.15);\n",
              "      filter: drop-shadow(0px 1px 2px rgba(0, 0, 0, 0.3));\n",
              "      fill: #FFFFFF;\n",
              "    }\n",
              "  </style>\n",
              "\n",
              "    <script>\n",
              "      const buttonEl =\n",
              "        document.querySelector('#df-f5f5f285-87af-4fdc-a36e-7c15a314ca00 button.colab-df-convert');\n",
              "      buttonEl.style.display =\n",
              "        google.colab.kernel.accessAllowed ? 'block' : 'none';\n",
              "\n",
              "      async function convertToInteractive(key) {\n",
              "        const element = document.querySelector('#df-f5f5f285-87af-4fdc-a36e-7c15a314ca00');\n",
              "        const dataTable =\n",
              "          await google.colab.kernel.invokeFunction('convertToInteractive',\n",
              "                                                    [key], {});\n",
              "        if (!dataTable) return;\n",
              "\n",
              "        const docLinkHtml = 'Like what you see? Visit the ' +\n",
              "          '<a target=\"_blank\" href=https://colab.research.google.com/notebooks/data_table.ipynb>data table notebook</a>'\n",
              "          + ' to learn more about interactive tables.';\n",
              "        element.innerHTML = '';\n",
              "        dataTable['output_type'] = 'display_data';\n",
              "        await google.colab.output.renderOutput(dataTable, element);\n",
              "        const docLink = document.createElement('div');\n",
              "        docLink.innerHTML = docLinkHtml;\n",
              "        element.appendChild(docLink);\n",
              "      }\n",
              "    </script>\n",
              "  </div>\n",
              "\n",
              "\n",
              "<div id=\"df-c236c37a-5895-461a-b532-7bcdc945a3e7\">\n",
              "  <button class=\"colab-df-quickchart\" onclick=\"quickchart('df-c236c37a-5895-461a-b532-7bcdc945a3e7')\"\n",
              "            title=\"Suggest charts.\"\n",
              "            style=\"display:none;\">\n",
              "\n",
              "<svg xmlns=\"http://www.w3.org/2000/svg\" height=\"24px\"viewBox=\"0 0 24 24\"\n",
              "     width=\"24px\">\n",
              "    <g>\n",
              "        <path d=\"M19 3H5c-1.1 0-2 .9-2 2v14c0 1.1.9 2 2 2h14c1.1 0 2-.9 2-2V5c0-1.1-.9-2-2-2zM9 17H7v-7h2v7zm4 0h-2V7h2v10zm4 0h-2v-4h2v4z\"/>\n",
              "    </g>\n",
              "</svg>\n",
              "  </button>\n",
              "\n",
              "<style>\n",
              "  .colab-df-quickchart {\n",
              "      --bg-color: #E8F0FE;\n",
              "      --fill-color: #1967D2;\n",
              "      --hover-bg-color: #E2EBFA;\n",
              "      --hover-fill-color: #174EA6;\n",
              "      --disabled-fill-color: #AAA;\n",
              "      --disabled-bg-color: #DDD;\n",
              "  }\n",
              "\n",
              "  [theme=dark] .colab-df-quickchart {\n",
              "      --bg-color: #3B4455;\n",
              "      --fill-color: #D2E3FC;\n",
              "      --hover-bg-color: #434B5C;\n",
              "      --hover-fill-color: #FFFFFF;\n",
              "      --disabled-bg-color: #3B4455;\n",
              "      --disabled-fill-color: #666;\n",
              "  }\n",
              "\n",
              "  .colab-df-quickchart {\n",
              "    background-color: var(--bg-color);\n",
              "    border: none;\n",
              "    border-radius: 50%;\n",
              "    cursor: pointer;\n",
              "    display: none;\n",
              "    fill: var(--fill-color);\n",
              "    height: 32px;\n",
              "    padding: 0;\n",
              "    width: 32px;\n",
              "  }\n",
              "\n",
              "  .colab-df-quickchart:hover {\n",
              "    background-color: var(--hover-bg-color);\n",
              "    box-shadow: 0 1px 2px rgba(60, 64, 67, 0.3), 0 1px 3px 1px rgba(60, 64, 67, 0.15);\n",
              "    fill: var(--button-hover-fill-color);\n",
              "  }\n",
              "\n",
              "  .colab-df-quickchart-complete:disabled,\n",
              "  .colab-df-quickchart-complete:disabled:hover {\n",
              "    background-color: var(--disabled-bg-color);\n",
              "    fill: var(--disabled-fill-color);\n",
              "    box-shadow: none;\n",
              "  }\n",
              "\n",
              "  .colab-df-spinner {\n",
              "    border: 2px solid var(--fill-color);\n",
              "    border-color: transparent;\n",
              "    border-bottom-color: var(--fill-color);\n",
              "    animation:\n",
              "      spin 1s steps(1) infinite;\n",
              "  }\n",
              "\n",
              "  @keyframes spin {\n",
              "    0% {\n",
              "      border-color: transparent;\n",
              "      border-bottom-color: var(--fill-color);\n",
              "      border-left-color: var(--fill-color);\n",
              "    }\n",
              "    20% {\n",
              "      border-color: transparent;\n",
              "      border-left-color: var(--fill-color);\n",
              "      border-top-color: var(--fill-color);\n",
              "    }\n",
              "    30% {\n",
              "      border-color: transparent;\n",
              "      border-left-color: var(--fill-color);\n",
              "      border-top-color: var(--fill-color);\n",
              "      border-right-color: var(--fill-color);\n",
              "    }\n",
              "    40% {\n",
              "      border-color: transparent;\n",
              "      border-right-color: var(--fill-color);\n",
              "      border-top-color: var(--fill-color);\n",
              "    }\n",
              "    60% {\n",
              "      border-color: transparent;\n",
              "      border-right-color: var(--fill-color);\n",
              "    }\n",
              "    80% {\n",
              "      border-color: transparent;\n",
              "      border-right-color: var(--fill-color);\n",
              "      border-bottom-color: var(--fill-color);\n",
              "    }\n",
              "    90% {\n",
              "      border-color: transparent;\n",
              "      border-bottom-color: var(--fill-color);\n",
              "    }\n",
              "  }\n",
              "</style>\n",
              "\n",
              "  <script>\n",
              "    async function quickchart(key) {\n",
              "      const quickchartButtonEl =\n",
              "        document.querySelector('#' + key + ' button');\n",
              "      quickchartButtonEl.disabled = true;  // To prevent multiple clicks.\n",
              "      quickchartButtonEl.classList.add('colab-df-spinner');\n",
              "      try {\n",
              "        const charts = await google.colab.kernel.invokeFunction(\n",
              "            'suggestCharts', [key], {});\n",
              "      } catch (error) {\n",
              "        console.error('Error during call to suggestCharts:', error);\n",
              "      }\n",
              "      quickchartButtonEl.classList.remove('colab-df-spinner');\n",
              "      quickchartButtonEl.classList.add('colab-df-quickchart-complete');\n",
              "    }\n",
              "    (() => {\n",
              "      let quickchartButtonEl =\n",
              "        document.querySelector('#df-c236c37a-5895-461a-b532-7bcdc945a3e7 button');\n",
              "      quickchartButtonEl.style.display =\n",
              "        google.colab.kernel.accessAllowed ? 'block' : 'none';\n",
              "    })();\n",
              "  </script>\n",
              "</div>\n",
              "    </div>\n",
              "  </div>\n"
            ]
          },
          "metadata": {},
          "execution_count": 199
        }
      ]
    },
    {
      "cell_type": "code",
      "source": [
        "import plotly.graph_objects as go\n",
        "node_colors = [\n",
        "    \"#1f77b4\",  # Azul escuro\n",
        "    \"#d62728\",  # Vermelho escuro\n",
        "    \"#2ca02c\",  # Verde escuro\n",
        "    \"#9467bd\",  # Roxo escuro\n",
        "    \"#ff7f0e\",  # Laranja escuro\n",
        "    \"#e377c2\",  # Rosa escuro\n",
        "    \"#aec7e8\",  # Azul claro\n",
        "    \"#ff9896\",  # Vermelho claro\n",
        "    \"#98df8a\",  # Verde claro\n",
        "    \"#c5b0d5\",  # Roxo claro\n",
        "    \"#ffbb78\",  # Laranja claro\n",
        "    \"#f7b6d2\"   # Rosa claro\n",
        "]\n",
        "\n",
        "# Dados de exemplo\n",
        "labels = [\"Active\", \"Churn\",\"Inactive\", \"New\",\"Reactivated\", \"Prospect\", \"Active\", \"Churn\",\"Inactive\", \"New\",\"Reactivated\", \"Prospect\"]\n",
        "         # 0          1         2         3       4             5\n",
        "\n",
        "source_indices = [0, 0, 1, 1, 2, 2, 3, 4, 4]\n",
        "target_indices = [6, 7, 8, 10, 8, 10, 7, 6, 7]\n",
        "values = [11312, 2768, 428, 234, 4377, 206, 1, 336, 586]\n",
        "\n",
        "# Crie um objeto Sankey\n",
        "fig = go.Figure(go.Sankey(\n",
        "    node=dict(\n",
        "        pad=15,\n",
        "        thickness=20,\n",
        "        line=dict(color=\"black\", width=0.5),\n",
        "        label=labels,\n",
        "        color=node_colors\n",
        "    ),\n",
        "    link=dict(\n",
        "        source=source_indices,\n",
        "        target=target_indices,\n",
        "        value=values\n",
        "    )\n",
        "))\n",
        "\n",
        "# Layout do gráfico\n",
        "fig.update_layout(title_text=\"Fluxo Status de Janeiro para fevereiro\")\n",
        "fig.show()"
      ],
      "metadata": {
        "colab": {
          "base_uri": "https://localhost:8080/",
          "height": 542
        },
        "id": "MO4UsXJr8zRd",
        "outputId": "36c0cfbd-e326-446b-c09f-f50396a3114e"
      },
      "execution_count": null,
      "outputs": [
        {
          "output_type": "display_data",
          "data": {
            "text/html": [
              "<html>\n",
              "<head><meta charset=\"utf-8\" /></head>\n",
              "<body>\n",
              "    <div>            <script src=\"https://cdnjs.cloudflare.com/ajax/libs/mathjax/2.7.5/MathJax.js?config=TeX-AMS-MML_SVG\"></script><script type=\"text/javascript\">if (window.MathJax && window.MathJax.Hub && window.MathJax.Hub.Config) {window.MathJax.Hub.Config({SVG: {font: \"STIX-Web\"}});}</script>                <script type=\"text/javascript\">window.PlotlyConfig = {MathJaxConfig: 'local'};</script>\n",
              "        <script charset=\"utf-8\" src=\"https://cdn.plot.ly/plotly-2.24.1.min.js\"></script>                <div id=\"db032653-8bc4-4155-8b69-f81ddfffc18b\" class=\"plotly-graph-div\" style=\"height:525px; width:100%;\"></div>            <script type=\"text/javascript\">                                    window.PLOTLYENV=window.PLOTLYENV || {};                                    if (document.getElementById(\"db032653-8bc4-4155-8b69-f81ddfffc18b\")) {                    Plotly.newPlot(                        \"db032653-8bc4-4155-8b69-f81ddfffc18b\",                        [{\"link\":{\"source\":[0,0,1,1,2,2,3,4,4],\"target\":[6,7,8,10,8,10,7,6,7],\"value\":[11312,2768,428,234,4377,206,1,336,586]},\"node\":{\"color\":[\"#1f77b4\",\"#d62728\",\"#2ca02c\",\"#9467bd\",\"#ff7f0e\",\"#e377c2\",\"#aec7e8\",\"#ff9896\",\"#98df8a\",\"#c5b0d5\",\"#ffbb78\",\"#f7b6d2\"],\"label\":[\"Active\",\"Churn\",\"Inactive\",\"New\",\"Reactivated\",\"Prospect\",\"Active\",\"Churn\",\"Inactive\",\"New\",\"Reactivated\",\"Prospect\"],\"line\":{\"color\":\"black\",\"width\":0.5},\"pad\":15,\"thickness\":20},\"type\":\"sankey\"}],                        {\"template\":{\"data\":{\"histogram2dcontour\":[{\"type\":\"histogram2dcontour\",\"colorbar\":{\"outlinewidth\":0,\"ticks\":\"\"},\"colorscale\":[[0.0,\"#0d0887\"],[0.1111111111111111,\"#46039f\"],[0.2222222222222222,\"#7201a8\"],[0.3333333333333333,\"#9c179e\"],[0.4444444444444444,\"#bd3786\"],[0.5555555555555556,\"#d8576b\"],[0.6666666666666666,\"#ed7953\"],[0.7777777777777778,\"#fb9f3a\"],[0.8888888888888888,\"#fdca26\"],[1.0,\"#f0f921\"]]}],\"choropleth\":[{\"type\":\"choropleth\",\"colorbar\":{\"outlinewidth\":0,\"ticks\":\"\"}}],\"histogram2d\":[{\"type\":\"histogram2d\",\"colorbar\":{\"outlinewidth\":0,\"ticks\":\"\"},\"colorscale\":[[0.0,\"#0d0887\"],[0.1111111111111111,\"#46039f\"],[0.2222222222222222,\"#7201a8\"],[0.3333333333333333,\"#9c179e\"],[0.4444444444444444,\"#bd3786\"],[0.5555555555555556,\"#d8576b\"],[0.6666666666666666,\"#ed7953\"],[0.7777777777777778,\"#fb9f3a\"],[0.8888888888888888,\"#fdca26\"],[1.0,\"#f0f921\"]]}],\"heatmap\":[{\"type\":\"heatmap\",\"colorbar\":{\"outlinewidth\":0,\"ticks\":\"\"},\"colorscale\":[[0.0,\"#0d0887\"],[0.1111111111111111,\"#46039f\"],[0.2222222222222222,\"#7201a8\"],[0.3333333333333333,\"#9c179e\"],[0.4444444444444444,\"#bd3786\"],[0.5555555555555556,\"#d8576b\"],[0.6666666666666666,\"#ed7953\"],[0.7777777777777778,\"#fb9f3a\"],[0.8888888888888888,\"#fdca26\"],[1.0,\"#f0f921\"]]}],\"heatmapgl\":[{\"type\":\"heatmapgl\",\"colorbar\":{\"outlinewidth\":0,\"ticks\":\"\"},\"colorscale\":[[0.0,\"#0d0887\"],[0.1111111111111111,\"#46039f\"],[0.2222222222222222,\"#7201a8\"],[0.3333333333333333,\"#9c179e\"],[0.4444444444444444,\"#bd3786\"],[0.5555555555555556,\"#d8576b\"],[0.6666666666666666,\"#ed7953\"],[0.7777777777777778,\"#fb9f3a\"],[0.8888888888888888,\"#fdca26\"],[1.0,\"#f0f921\"]]}],\"contourcarpet\":[{\"type\":\"contourcarpet\",\"colorbar\":{\"outlinewidth\":0,\"ticks\":\"\"}}],\"contour\":[{\"type\":\"contour\",\"colorbar\":{\"outlinewidth\":0,\"ticks\":\"\"},\"colorscale\":[[0.0,\"#0d0887\"],[0.1111111111111111,\"#46039f\"],[0.2222222222222222,\"#7201a8\"],[0.3333333333333333,\"#9c179e\"],[0.4444444444444444,\"#bd3786\"],[0.5555555555555556,\"#d8576b\"],[0.6666666666666666,\"#ed7953\"],[0.7777777777777778,\"#fb9f3a\"],[0.8888888888888888,\"#fdca26\"],[1.0,\"#f0f921\"]]}],\"surface\":[{\"type\":\"surface\",\"colorbar\":{\"outlinewidth\":0,\"ticks\":\"\"},\"colorscale\":[[0.0,\"#0d0887\"],[0.1111111111111111,\"#46039f\"],[0.2222222222222222,\"#7201a8\"],[0.3333333333333333,\"#9c179e\"],[0.4444444444444444,\"#bd3786\"],[0.5555555555555556,\"#d8576b\"],[0.6666666666666666,\"#ed7953\"],[0.7777777777777778,\"#fb9f3a\"],[0.8888888888888888,\"#fdca26\"],[1.0,\"#f0f921\"]]}],\"mesh3d\":[{\"type\":\"mesh3d\",\"colorbar\":{\"outlinewidth\":0,\"ticks\":\"\"}}],\"scatter\":[{\"fillpattern\":{\"fillmode\":\"overlay\",\"size\":10,\"solidity\":0.2},\"type\":\"scatter\"}],\"parcoords\":[{\"type\":\"parcoords\",\"line\":{\"colorbar\":{\"outlinewidth\":0,\"ticks\":\"\"}}}],\"scatterpolargl\":[{\"type\":\"scatterpolargl\",\"marker\":{\"colorbar\":{\"outlinewidth\":0,\"ticks\":\"\"}}}],\"bar\":[{\"error_x\":{\"color\":\"#2a3f5f\"},\"error_y\":{\"color\":\"#2a3f5f\"},\"marker\":{\"line\":{\"color\":\"#E5ECF6\",\"width\":0.5},\"pattern\":{\"fillmode\":\"overlay\",\"size\":10,\"solidity\":0.2}},\"type\":\"bar\"}],\"scattergeo\":[{\"type\":\"scattergeo\",\"marker\":{\"colorbar\":{\"outlinewidth\":0,\"ticks\":\"\"}}}],\"scatterpolar\":[{\"type\":\"scatterpolar\",\"marker\":{\"colorbar\":{\"outlinewidth\":0,\"ticks\":\"\"}}}],\"histogram\":[{\"marker\":{\"pattern\":{\"fillmode\":\"overlay\",\"size\":10,\"solidity\":0.2}},\"type\":\"histogram\"}],\"scattergl\":[{\"type\":\"scattergl\",\"marker\":{\"colorbar\":{\"outlinewidth\":0,\"ticks\":\"\"}}}],\"scatter3d\":[{\"type\":\"scatter3d\",\"line\":{\"colorbar\":{\"outlinewidth\":0,\"ticks\":\"\"}},\"marker\":{\"colorbar\":{\"outlinewidth\":0,\"ticks\":\"\"}}}],\"scattermapbox\":[{\"type\":\"scattermapbox\",\"marker\":{\"colorbar\":{\"outlinewidth\":0,\"ticks\":\"\"}}}],\"scatterternary\":[{\"type\":\"scatterternary\",\"marker\":{\"colorbar\":{\"outlinewidth\":0,\"ticks\":\"\"}}}],\"scattercarpet\":[{\"type\":\"scattercarpet\",\"marker\":{\"colorbar\":{\"outlinewidth\":0,\"ticks\":\"\"}}}],\"carpet\":[{\"aaxis\":{\"endlinecolor\":\"#2a3f5f\",\"gridcolor\":\"white\",\"linecolor\":\"white\",\"minorgridcolor\":\"white\",\"startlinecolor\":\"#2a3f5f\"},\"baxis\":{\"endlinecolor\":\"#2a3f5f\",\"gridcolor\":\"white\",\"linecolor\":\"white\",\"minorgridcolor\":\"white\",\"startlinecolor\":\"#2a3f5f\"},\"type\":\"carpet\"}],\"table\":[{\"cells\":{\"fill\":{\"color\":\"#EBF0F8\"},\"line\":{\"color\":\"white\"}},\"header\":{\"fill\":{\"color\":\"#C8D4E3\"},\"line\":{\"color\":\"white\"}},\"type\":\"table\"}],\"barpolar\":[{\"marker\":{\"line\":{\"color\":\"#E5ECF6\",\"width\":0.5},\"pattern\":{\"fillmode\":\"overlay\",\"size\":10,\"solidity\":0.2}},\"type\":\"barpolar\"}],\"pie\":[{\"automargin\":true,\"type\":\"pie\"}]},\"layout\":{\"autotypenumbers\":\"strict\",\"colorway\":[\"#636efa\",\"#EF553B\",\"#00cc96\",\"#ab63fa\",\"#FFA15A\",\"#19d3f3\",\"#FF6692\",\"#B6E880\",\"#FF97FF\",\"#FECB52\"],\"font\":{\"color\":\"#2a3f5f\"},\"hovermode\":\"closest\",\"hoverlabel\":{\"align\":\"left\"},\"paper_bgcolor\":\"white\",\"plot_bgcolor\":\"#E5ECF6\",\"polar\":{\"bgcolor\":\"#E5ECF6\",\"angularaxis\":{\"gridcolor\":\"white\",\"linecolor\":\"white\",\"ticks\":\"\"},\"radialaxis\":{\"gridcolor\":\"white\",\"linecolor\":\"white\",\"ticks\":\"\"}},\"ternary\":{\"bgcolor\":\"#E5ECF6\",\"aaxis\":{\"gridcolor\":\"white\",\"linecolor\":\"white\",\"ticks\":\"\"},\"baxis\":{\"gridcolor\":\"white\",\"linecolor\":\"white\",\"ticks\":\"\"},\"caxis\":{\"gridcolor\":\"white\",\"linecolor\":\"white\",\"ticks\":\"\"}},\"coloraxis\":{\"colorbar\":{\"outlinewidth\":0,\"ticks\":\"\"}},\"colorscale\":{\"sequential\":[[0.0,\"#0d0887\"],[0.1111111111111111,\"#46039f\"],[0.2222222222222222,\"#7201a8\"],[0.3333333333333333,\"#9c179e\"],[0.4444444444444444,\"#bd3786\"],[0.5555555555555556,\"#d8576b\"],[0.6666666666666666,\"#ed7953\"],[0.7777777777777778,\"#fb9f3a\"],[0.8888888888888888,\"#fdca26\"],[1.0,\"#f0f921\"]],\"sequentialminus\":[[0.0,\"#0d0887\"],[0.1111111111111111,\"#46039f\"],[0.2222222222222222,\"#7201a8\"],[0.3333333333333333,\"#9c179e\"],[0.4444444444444444,\"#bd3786\"],[0.5555555555555556,\"#d8576b\"],[0.6666666666666666,\"#ed7953\"],[0.7777777777777778,\"#fb9f3a\"],[0.8888888888888888,\"#fdca26\"],[1.0,\"#f0f921\"]],\"diverging\":[[0,\"#8e0152\"],[0.1,\"#c51b7d\"],[0.2,\"#de77ae\"],[0.3,\"#f1b6da\"],[0.4,\"#fde0ef\"],[0.5,\"#f7f7f7\"],[0.6,\"#e6f5d0\"],[0.7,\"#b8e186\"],[0.8,\"#7fbc41\"],[0.9,\"#4d9221\"],[1,\"#276419\"]]},\"xaxis\":{\"gridcolor\":\"white\",\"linecolor\":\"white\",\"ticks\":\"\",\"title\":{\"standoff\":15},\"zerolinecolor\":\"white\",\"automargin\":true,\"zerolinewidth\":2},\"yaxis\":{\"gridcolor\":\"white\",\"linecolor\":\"white\",\"ticks\":\"\",\"title\":{\"standoff\":15},\"zerolinecolor\":\"white\",\"automargin\":true,\"zerolinewidth\":2},\"scene\":{\"xaxis\":{\"backgroundcolor\":\"#E5ECF6\",\"gridcolor\":\"white\",\"linecolor\":\"white\",\"showbackground\":true,\"ticks\":\"\",\"zerolinecolor\":\"white\",\"gridwidth\":2},\"yaxis\":{\"backgroundcolor\":\"#E5ECF6\",\"gridcolor\":\"white\",\"linecolor\":\"white\",\"showbackground\":true,\"ticks\":\"\",\"zerolinecolor\":\"white\",\"gridwidth\":2},\"zaxis\":{\"backgroundcolor\":\"#E5ECF6\",\"gridcolor\":\"white\",\"linecolor\":\"white\",\"showbackground\":true,\"ticks\":\"\",\"zerolinecolor\":\"white\",\"gridwidth\":2}},\"shapedefaults\":{\"line\":{\"color\":\"#2a3f5f\"}},\"annotationdefaults\":{\"arrowcolor\":\"#2a3f5f\",\"arrowhead\":0,\"arrowwidth\":1},\"geo\":{\"bgcolor\":\"white\",\"landcolor\":\"#E5ECF6\",\"subunitcolor\":\"white\",\"showland\":true,\"showlakes\":true,\"lakecolor\":\"white\"},\"title\":{\"x\":0.05},\"mapbox\":{\"style\":\"light\"}}},\"title\":{\"text\":\"Fluxo Status de Janeiro para fevereiro\"}},                        {\"responsive\": true}                    ).then(function(){\n",
              "                            \n",
              "var gd = document.getElementById('db032653-8bc4-4155-8b69-f81ddfffc18b');\n",
              "var x = new MutationObserver(function (mutations, observer) {{\n",
              "        var display = window.getComputedStyle(gd).display;\n",
              "        if (!display || display === 'none') {{\n",
              "            console.log([gd, 'removed!']);\n",
              "            Plotly.purge(gd);\n",
              "            observer.disconnect();\n",
              "        }}\n",
              "}});\n",
              "\n",
              "// Listen for the removal of the full notebook cells\n",
              "var notebookContainer = gd.closest('#notebook-container');\n",
              "if (notebookContainer) {{\n",
              "    x.observe(notebookContainer, {childList: true});\n",
              "}}\n",
              "\n",
              "// Listen for the clearing of the current output cell\n",
              "var outputEl = gd.closest('.output');\n",
              "if (outputEl) {{\n",
              "    x.observe(outputEl, {childList: true});\n",
              "}}\n",
              "\n",
              "                        })                };                            </script>        </div>\n",
              "</body>\n",
              "</html>"
            ]
          },
          "metadata": {}
        }
      ]
    },
    {
      "cell_type": "markdown",
      "source": [
        "### Tenho Clientes mais engajados/fidelizados?"
      ],
      "metadata": {
        "id": "IPAJQg9tF-Sg"
      }
    },
    {
      "cell_type": "code",
      "source": [
        "df_mark_dt['purchase_rate'] = df_mark_dt['total_order_count']/(df_mark_dt['customer_tenure'])"
      ],
      "metadata": {
        "id": "oxsChrpwGJio"
      },
      "execution_count": null,
      "outputs": []
    },
    {
      "cell_type": "code",
      "source": [
        "f, ax = plt.subplots(figsize=(20, 5))\n",
        "sns.boxplot(x = df_mark_dt['purchase_rate'], width=.6, palette=\"BuGn\")\n",
        "ax.xaxis.grid(True)\n",
        "ax.set(ylabel=\"\")\n",
        "sns.despine(trim=True, left=True)\n",
        "plt.show()"
      ],
      "metadata": {
        "colab": {
          "base_uri": "https://localhost:8080/",
          "height": 372
        },
        "id": "e-0hUDElJGov",
        "outputId": "804523e5-f260-4b0f-c6a2-35b0eefea720"
      },
      "execution_count": null,
      "outputs": [
        {
          "output_type": "display_data",
          "data": {
            "text/plain": [
              "<Figure size 2000x500 with 1 Axes>"
            ],
            "image/png": "[encoded data removed]"
          },
          "metadata": {}
        }
      ]
    },
    {
      "cell_type": "code",
      "source": [
        "# Crie um histograma\n",
        "fil = df_mark_dt.purchase_rate<5\n",
        "plt.figure(figsize=(10, 6))\n",
        "sns.histplot(df_mark_dt[fil]['purchase_rate'], bins=20, kde=False)  # Você pode ajustar o número de bins conforme necessário.\n",
        "plt.xlabel('Pontuação de Compras por Tempo de Conta')\n",
        "plt.ylabel('Contagem')\n",
        "plt.title('Distribuição da Pontuação dos clientes mais Engajados')"
      ],
      "metadata": {
        "colab": {
          "base_uri": "https://localhost:8080/",
          "height": 581
        },
        "id": "gGd8LSdxGpux",
        "outputId": "33ea82c1-4c09-49c3-c3fa-831af7755f57"
      },
      "execution_count": null,
      "outputs": [
        {
          "output_type": "execute_result",
          "data": {
            "text/plain": [
              "Text(0.5, 1.0, 'Distribuição da Pontuação dos clientes mais Engajados')"
            ]
          },
          "metadata": {},
          "execution_count": 203
        },
        {
          "output_type": "display_data",
          "data": {
            "text/plain": [
              "<Figure size 1000x600 with 1 Axes>"
            ],
            "image/png": "[encoded data removed]"
          },
          "metadata": {}
        }
      ]
    },
    {
      "cell_type": "code",
      "source": [
        "df_mark_dt['purchase_rate'].describe()"
      ],
      "metadata": {
        "colab": {
          "base_uri": "https://localhost:8080/"
        },
        "id": "WKBdK_CVIXd5",
        "outputId": "f2cfa0f8-cb2a-403d-cad4-632e648c2b1f"
      },
      "execution_count": null,
      "outputs": [
        {
          "output_type": "execute_result",
          "data": {
            "text/plain": [
              "count    2.024800e+04\n",
              "mean              inf\n",
              "std               NaN\n",
              "min      6.016847e-04\n",
              "25%      1.343586e-01\n",
              "50%      2.860814e-01\n",
              "75%      5.049141e-01\n",
              "max               inf\n",
              "Name: purchase_rate, dtype: float64"
            ]
          },
          "metadata": {},
          "execution_count": 204
        }
      ]
    },
    {
      "cell_type": "markdown",
      "source": [
        "# Inicial"
      ],
      "metadata": {
        "id": "msht1-leeR8X"
      }
    },
    {
      "cell_type": "code",
      "source": [
        "cols = df_marketing.columns\n",
        "for col in cols:\n",
        "  print('')\n",
        "  display(df_marketing[col].value_counts(dropna=False))"
      ],
      "metadata": {
        "colab": {
          "base_uri": "https://localhost:8080/",
          "height": 1000
        },
        "id": "xhjCfArUwTJ0",
        "outputId": "d3809b0e-512f-4097-9d07-264c425e0dfd"
      },
      "execution_count": null,
      "outputs": [
        {
          "output_type": "stream",
          "name": "stdout",
          "text": [
            "\n"
          ]
        },
        {
          "output_type": "display_data",
          "data": {
            "text/plain": [
              "7c0450e7-a806-4208-8449-e4269a27e6b5    1\n",
              "159c3b4d-76db-4e4e-9b01-27de9a596876    1\n",
              "9cf72aec-83a0-4c37-b03d-0c4d4a8b8bc1    1\n",
              "6df59c7c-765d-4a84-82b8-3359cb94c1a5    1\n",
              "df7d55e0-ac6d-467e-bc22-ddd7560858a8    1\n",
              "                                       ..\n",
              "13011e44-4ff2-4d49-8aaa-91e146edcfc8    1\n",
              "eb981934-6118-44e2-ab42-2226d977e55d    1\n",
              "e6a668dc-914a-49fb-8c2b-1b569d4e1175    1\n",
              "c2aae1ae-82c4-40f4-9e49-b018baa3b115    1\n",
              "ed2a5774-8181-4d38-94ac-1dd55f3f5da3    1\n",
              "Name: account_id, Length: 20248, dtype: int64"
            ]
          },
          "metadata": {}
        },
        {
          "output_type": "stream",
          "name": "stdout",
          "text": [
            "\n"
          ]
        },
        {
          "output_type": "display_data",
          "data": {
            "text/plain": [
              "2010-01-05    49\n",
              "2019-11-30    29\n",
              "2018-10-14    29\n",
              "2020-01-28    28\n",
              "2019-11-28    27\n",
              "              ..\n",
              "2010-11-08     1\n",
              "2010-09-13     1\n",
              "2011-10-25     1\n",
              "2013-05-08     1\n",
              "2011-02-18     1\n",
              "Name: registration_date, Length: 2994, dtype: int64"
            ]
          },
          "metadata": {}
        },
        {
          "output_type": "stream",
          "name": "stdout",
          "text": [
            "\n"
          ]
        },
        {
          "output_type": "display_data",
          "data": {
            "text/plain": [
              "Active         11648\n",
              "Inactive        4805\n",
              "Churn           3355\n",
              "Reactivated      440\n",
              "Name: ifood_status, dtype: int64"
            ]
          },
          "metadata": {}
        },
        {
          "output_type": "stream",
          "name": "stdout",
          "text": [
            "\n"
          ]
        },
        {
          "output_type": "display_data",
          "data": {
            "text/plain": [
              "Active         14080\n",
              "Inactive        4583\n",
              "Reactivated      922\n",
              "Churn            662\n",
              "New                1\n",
              "Name: ifood_status_last_month, dtype: int64"
            ]
          },
          "metadata": {}
        },
        {
          "output_type": "stream",
          "name": "stdout",
          "text": [
            "\n"
          ]
        },
        {
          "output_type": "display_data",
          "data": {
            "text/plain": [
              "1       334\n",
              "2       179\n",
              "3       167\n",
              "4       138\n",
              "5       115\n",
              "       ... \n",
              "1651      1\n",
              "1330      1\n",
              "1102      1\n",
              "1030      1\n",
              "2146      1\n",
              "Name: total_order_count, Length: 1407, dtype: int64"
            ]
          },
          "metadata": {}
        },
        {
          "output_type": "stream",
          "name": "stdout",
          "text": [
            "\n"
          ]
        },
        {
          "output_type": "display_data",
          "data": {
            "text/plain": [
              "2020-02-14    49\n",
              "2020-02-09    43\n",
              "2020-02-15    40\n",
              "2020-02-21    40\n",
              "2020-02-08    39\n",
              "              ..\n",
              "2013-02-28     1\n",
              "2013-08-15     1\n",
              "2014-04-01     1\n",
              "2013-06-25     1\n",
              "2012-01-16     1\n",
              "Name: first_order_date, Length: 2666, dtype: int64"
            ]
          },
          "metadata": {}
        }
      ]
    },
    {
      "cell_type": "code",
      "source": [
        "# Crie um histograma\n",
        "#fil = df_mark_dt.purchase_rate<5\n",
        "plt.figure(figsize=(10, 6))\n",
        "sns.histplot(df_mark_dt['total_order_count'], bins=20, kde=False)  # Você pode ajustar o número de bins conforme necessário.\n",
        "plt.xlabel('Total de Pedidos')\n",
        "plt.ylabel('Contagem')\n",
        "plt.title('Total de Pedidos de Clientes')"
      ],
      "metadata": {
        "id": "co7r1qHpwVJw",
        "colab": {
          "base_uri": "https://localhost:8080/",
          "height": 581
        },
        "outputId": "7aed405b-0b1b-4ed5-eb0b-7ca7248d776c"
      },
      "execution_count": null,
      "outputs": [
        {
          "output_type": "execute_result",
          "data": {
            "text/plain": [
              "Text(0.5, 1.0, 'Total de Pedidos de Clientes')"
            ]
          },
          "metadata": {},
          "execution_count": 217
        },
        {
          "output_type": "display_data",
          "data": {
            "text/plain": [
              "<Figure size 1000x600 with 1 Axes>"
            ],
            "image/png": "[encoded data removed]"
          },
          "metadata": {}
        }
      ]
    },
    {
      "cell_type": "code",
      "source": [
        "df_mark_dt['total_order_count'].describe()"
      ],
      "metadata": {
        "colab": {
          "base_uri": "https://localhost:8080/"
        },
        "id": "f6Uz43vQRmT1",
        "outputId": "667bf361-51d6-416c-d15f-b3659fe6e3d5"
      },
      "execution_count": null,
      "outputs": [
        {
          "output_type": "execute_result",
          "data": {
            "text/plain": [
              "count    20248.000000\n",
              "mean       341.338058\n",
              "std        303.148108\n",
              "min          1.000000\n",
              "25%         91.000000\n",
              "50%        286.000000\n",
              "75%        501.000000\n",
              "max       3098.000000\n",
              "Name: total_order_count, dtype: float64"
            ]
          },
          "metadata": {},
          "execution_count": 216
        }
      ]
    },
    {
      "cell_type": "code",
      "source": [],
      "metadata": {
        "id": "xAynwTiwR6S2"
      },
      "execution_count": null,
      "outputs": []
    }
  ]
}